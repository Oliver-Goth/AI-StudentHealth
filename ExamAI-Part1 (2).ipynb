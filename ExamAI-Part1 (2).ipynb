{
 "cells": [
  {
   "cell_type": "markdown",
   "id": "8eca2545-9e51-401a-b38f-acce722852d0",
   "metadata": {},
   "source": [
    "Kunstig Intelligens 2025 Cphbusiness\n",
    "\n",
    "Af **Andreas & Oliver** "
   ]
  },
  {
   "cell_type": "markdown",
   "id": "2b49bbaf-2f9d-44a1-bf81-1225d5ee33c7",
   "metadata": {},
   "source": [
    "# Machine Learning - Part 1"
   ]
  },
  {
   "cell_type": "markdown",
   "id": "ec807489-8cf8-4a37-9e90-434bb6b79aab",
   "metadata": {},
   "source": [
    "## Indholdsfortegnelse\n"
   ]
  },
  {
   "cell_type": "markdown",
   "id": "dd34cd66-b3ff-4a26-ae26-b629237020d3",
   "metadata": {},
   "source": [
    "## Introduktion"
   ]
  },
  {
   "cell_type": "code",
   "execution_count": null,
   "id": "0f628253-953a-45ba-b0a7-c5f5de310c21",
   "metadata": {},
   "outputs": [],
   "source": []
  },
  {
   "cell_type": "markdown",
   "id": "9e121886-85a3-4fda-89a0-0e92652f9661",
   "metadata": {},
   "source": [
    "## 1. Load and Inspect the Dataset\n",
    "Vi startede med at indlæse datasættet ved hjælp af *pandas-bibliotek*. Dette datasæt indeholder **mental health assessments** for **students**. Ved at forhåndsvise de første par rækker får vi et indtryk af datastrukturen, kolonnenavne og det indledende indhold. Dette hjælper os med at planlægge vores oprydnings- og udforskningsskridt."
   ]
  },
  {
   "cell_type": "code",
   "execution_count": 6,
   "id": "b6c8b31a-b4d5-4d35-aa94-0f170f8f8f23",
   "metadata": {},
   "outputs": [
    {
     "data": {
      "text/html": [
       "<div>\n",
       "<style scoped>\n",
       "    .dataframe tbody tr th:only-of-type {\n",
       "        vertical-align: middle;\n",
       "    }\n",
       "\n",
       "    .dataframe tbody tr th {\n",
       "        vertical-align: top;\n",
       "    }\n",
       "\n",
       "    .dataframe thead th {\n",
       "        text-align: right;\n",
       "    }\n",
       "</style>\n",
       "<table border=\"1\" class=\"dataframe\">\n",
       "  <thead>\n",
       "    <tr style=\"text-align: right;\">\n",
       "      <th></th>\n",
       "      <th>Age</th>\n",
       "      <th>Course</th>\n",
       "      <th>Gender</th>\n",
       "      <th>CGPA</th>\n",
       "      <th>Stress_Level</th>\n",
       "      <th>Depression_Score</th>\n",
       "      <th>Anxiety_Score</th>\n",
       "      <th>Sleep_Quality</th>\n",
       "      <th>Physical_Activity</th>\n",
       "      <th>Diet_Quality</th>\n",
       "      <th>Social_Support</th>\n",
       "      <th>Relationship_Status</th>\n",
       "      <th>Substance_Use</th>\n",
       "      <th>Counseling_Service_Use</th>\n",
       "      <th>Family_History</th>\n",
       "      <th>Chronic_Illness</th>\n",
       "      <th>Financial_Stress</th>\n",
       "      <th>Extracurricular_Involvement</th>\n",
       "      <th>Semester_Credit_Load</th>\n",
       "      <th>Residence_Type</th>\n",
       "    </tr>\n",
       "  </thead>\n",
       "  <tbody>\n",
       "    <tr>\n",
       "      <th>0</th>\n",
       "      <td>25</td>\n",
       "      <td>Others</td>\n",
       "      <td>Male</td>\n",
       "      <td>3.56</td>\n",
       "      <td>3</td>\n",
       "      <td>3</td>\n",
       "      <td>2</td>\n",
       "      <td>Good</td>\n",
       "      <td>Moderate</td>\n",
       "      <td>Good</td>\n",
       "      <td>Moderate</td>\n",
       "      <td>Married</td>\n",
       "      <td>Never</td>\n",
       "      <td>Never</td>\n",
       "      <td>No</td>\n",
       "      <td>No</td>\n",
       "      <td>2</td>\n",
       "      <td>Moderate</td>\n",
       "      <td>17</td>\n",
       "      <td>On-Campus</td>\n",
       "    </tr>\n",
       "    <tr>\n",
       "      <th>1</th>\n",
       "      <td>24</td>\n",
       "      <td>Engineering</td>\n",
       "      <td>Female</td>\n",
       "      <td>2.44</td>\n",
       "      <td>0</td>\n",
       "      <td>3</td>\n",
       "      <td>0</td>\n",
       "      <td>Average</td>\n",
       "      <td>Low</td>\n",
       "      <td>Average</td>\n",
       "      <td>Low</td>\n",
       "      <td>Single</td>\n",
       "      <td>Occasionally</td>\n",
       "      <td>Occasionally</td>\n",
       "      <td>No</td>\n",
       "      <td>No</td>\n",
       "      <td>3</td>\n",
       "      <td>Low</td>\n",
       "      <td>27</td>\n",
       "      <td>On-Campus</td>\n",
       "    </tr>\n",
       "    <tr>\n",
       "      <th>2</th>\n",
       "      <td>19</td>\n",
       "      <td>Business</td>\n",
       "      <td>Female</td>\n",
       "      <td>3.74</td>\n",
       "      <td>4</td>\n",
       "      <td>0</td>\n",
       "      <td>3</td>\n",
       "      <td>Good</td>\n",
       "      <td>Low</td>\n",
       "      <td>Average</td>\n",
       "      <td>Moderate</td>\n",
       "      <td>In a Relationship</td>\n",
       "      <td>Never</td>\n",
       "      <td>Occasionally</td>\n",
       "      <td>No</td>\n",
       "      <td>No</td>\n",
       "      <td>4</td>\n",
       "      <td>High</td>\n",
       "      <td>15</td>\n",
       "      <td>On-Campus</td>\n",
       "    </tr>\n",
       "    <tr>\n",
       "      <th>3</th>\n",
       "      <td>19</td>\n",
       "      <td>Computer Science</td>\n",
       "      <td>Male</td>\n",
       "      <td>3.65</td>\n",
       "      <td>2</td>\n",
       "      <td>1</td>\n",
       "      <td>0</td>\n",
       "      <td>Average</td>\n",
       "      <td>Low</td>\n",
       "      <td>Average</td>\n",
       "      <td>Moderate</td>\n",
       "      <td>Single</td>\n",
       "      <td>NaN</td>\n",
       "      <td>Never</td>\n",
       "      <td>No</td>\n",
       "      <td>No</td>\n",
       "      <td>4</td>\n",
       "      <td>Moderate</td>\n",
       "      <td>20</td>\n",
       "      <td>Off-Campus</td>\n",
       "    </tr>\n",
       "    <tr>\n",
       "      <th>4</th>\n",
       "      <td>18</td>\n",
       "      <td>Business</td>\n",
       "      <td>Male</td>\n",
       "      <td>3.40</td>\n",
       "      <td>3</td>\n",
       "      <td>3</td>\n",
       "      <td>4</td>\n",
       "      <td>Good</td>\n",
       "      <td>Low</td>\n",
       "      <td>Average</td>\n",
       "      <td>High</td>\n",
       "      <td>Married</td>\n",
       "      <td>Never</td>\n",
       "      <td>Never</td>\n",
       "      <td>No</td>\n",
       "      <td>Yes</td>\n",
       "      <td>0</td>\n",
       "      <td>High</td>\n",
       "      <td>23</td>\n",
       "      <td>On-Campus</td>\n",
       "    </tr>\n",
       "  </tbody>\n",
       "</table>\n",
       "</div>"
      ],
      "text/plain": [
       "   Age            Course  Gender  CGPA  Stress_Level  Depression_Score  \\\n",
       "0   25            Others    Male  3.56             3                 3   \n",
       "1   24       Engineering  Female  2.44             0                 3   \n",
       "2   19          Business  Female  3.74             4                 0   \n",
       "3   19  Computer Science    Male  3.65             2                 1   \n",
       "4   18          Business    Male  3.40             3                 3   \n",
       "\n",
       "   Anxiety_Score Sleep_Quality Physical_Activity Diet_Quality Social_Support  \\\n",
       "0              2          Good          Moderate         Good       Moderate   \n",
       "1              0       Average               Low      Average            Low   \n",
       "2              3          Good               Low      Average       Moderate   \n",
       "3              0       Average               Low      Average       Moderate   \n",
       "4              4          Good               Low      Average           High   \n",
       "\n",
       "  Relationship_Status Substance_Use Counseling_Service_Use Family_History  \\\n",
       "0             Married         Never                  Never             No   \n",
       "1              Single  Occasionally           Occasionally             No   \n",
       "2   In a Relationship         Never           Occasionally             No   \n",
       "3              Single           NaN                  Never             No   \n",
       "4             Married         Never                  Never             No   \n",
       "\n",
       "  Chronic_Illness  Financial_Stress Extracurricular_Involvement  \\\n",
       "0              No                 2                    Moderate   \n",
       "1              No                 3                         Low   \n",
       "2              No                 4                        High   \n",
       "3              No                 4                    Moderate   \n",
       "4             Yes                 0                        High   \n",
       "\n",
       "   Semester_Credit_Load Residence_Type  \n",
       "0                    17      On-Campus  \n",
       "1                    27      On-Campus  \n",
       "2                    15      On-Campus  \n",
       "3                    20     Off-Campus  \n",
       "4                    23      On-Campus  "
      ]
     },
     "execution_count": 6,
     "metadata": {},
     "output_type": "execute_result"
    }
   ],
   "source": [
    "# 1.1 Import libraries\n",
    "import pandas as pd\n",
    "\n",
    "# 1.2: Load the dataset (update path as needed)\n",
    "df = pd.read_csv(\"Dataset/students_mental_health_survey.csv\")\n",
    "\n",
    "# 1.3: Display the first few rows\n",
    "df.head()"
   ]
  },
  {
   "cell_type": "markdown",
   "id": "35865aac-fe64-474c-a19c-262b70d0a9db",
   "metadata": {},
   "source": [
    "## 2. Explore Column Types and Missing Values"
   ]
  },
  {
   "cell_type": "code",
   "execution_count": 8,
   "id": "71862145-67fb-400e-b67b-3e2e07749aef",
   "metadata": {},
   "outputs": [
    {
     "name": "stdout",
     "output_type": "stream",
     "text": [
      "<class 'pandas.core.frame.DataFrame'>\n",
      "RangeIndex: 7022 entries, 0 to 7021\n",
      "Data columns (total 20 columns):\n",
      " #   Column                       Non-Null Count  Dtype  \n",
      "---  ------                       --------------  -----  \n",
      " 0   Age                          7022 non-null   int64  \n",
      " 1   Course                       7022 non-null   object \n",
      " 2   Gender                       7022 non-null   object \n",
      " 3   CGPA                         7010 non-null   float64\n",
      " 4   Stress_Level                 7022 non-null   int64  \n",
      " 5   Depression_Score             7022 non-null   int64  \n",
      " 6   Anxiety_Score                7022 non-null   int64  \n",
      " 7   Sleep_Quality                7022 non-null   object \n",
      " 8   Physical_Activity            7022 non-null   object \n",
      " 9   Diet_Quality                 7022 non-null   object \n",
      " 10  Social_Support               7022 non-null   object \n",
      " 11  Relationship_Status          7022 non-null   object \n",
      " 12  Substance_Use                7007 non-null   object \n",
      " 13  Counseling_Service_Use       7022 non-null   object \n",
      " 14  Family_History               7022 non-null   object \n",
      " 15  Chronic_Illness              7022 non-null   object \n",
      " 16  Financial_Stress             7022 non-null   int64  \n",
      " 17  Extracurricular_Involvement  7022 non-null   object \n",
      " 18  Semester_Credit_Load         7022 non-null   int64  \n",
      " 19  Residence_Type               7022 non-null   object \n",
      "dtypes: float64(1), int64(6), object(13)\n",
      "memory usage: 1.1+ MB\n"
     ]
    }
   ],
   "source": [
    "# 2.1 Show basic information about the dataset\n",
    "df.info()"
   ]
  },
  {
   "cell_type": "code",
   "execution_count": 9,
   "id": "0a7d3af4-7ff6-4f48-a72c-d5e4c28e45b0",
   "metadata": {},
   "outputs": [
    {
     "data": {
      "text/plain": [
       "Age                             0\n",
       "Course                          0\n",
       "Gender                          0\n",
       "CGPA                           12\n",
       "Stress_Level                    0\n",
       "Depression_Score                0\n",
       "Anxiety_Score                   0\n",
       "Sleep_Quality                   0\n",
       "Physical_Activity               0\n",
       "Diet_Quality                    0\n",
       "Social_Support                  0\n",
       "Relationship_Status             0\n",
       "Substance_Use                  15\n",
       "Counseling_Service_Use          0\n",
       "Family_History                  0\n",
       "Chronic_Illness                 0\n",
       "Financial_Stress                0\n",
       "Extracurricular_Involvement     0\n",
       "Semester_Credit_Load            0\n",
       "Residence_Type                  0\n",
       "dtype: int64"
      ]
     },
     "execution_count": 9,
     "metadata": {},
     "output_type": "execute_result"
    }
   ],
   "source": [
    "# 2.2 Show total missing values per column\n",
    "df.isnull().sum()"
   ]
  },
  {
   "cell_type": "code",
   "execution_count": 10,
   "id": "68fd9e71-1624-4186-8419-26ef1988f881",
   "metadata": {},
   "outputs": [
    {
     "data": {
      "text/html": [
       "<div>\n",
       "<style scoped>\n",
       "    .dataframe tbody tr th:only-of-type {\n",
       "        vertical-align: middle;\n",
       "    }\n",
       "\n",
       "    .dataframe tbody tr th {\n",
       "        vertical-align: top;\n",
       "    }\n",
       "\n",
       "    .dataframe thead th {\n",
       "        text-align: right;\n",
       "    }\n",
       "</style>\n",
       "<table border=\"1\" class=\"dataframe\">\n",
       "  <thead>\n",
       "    <tr style=\"text-align: right;\">\n",
       "      <th></th>\n",
       "      <th>Age</th>\n",
       "      <th>Course</th>\n",
       "      <th>Gender</th>\n",
       "      <th>CGPA</th>\n",
       "      <th>Stress_Level</th>\n",
       "      <th>Depression_Score</th>\n",
       "      <th>Anxiety_Score</th>\n",
       "      <th>Sleep_Quality</th>\n",
       "      <th>Physical_Activity</th>\n",
       "      <th>Diet_Quality</th>\n",
       "      <th>Social_Support</th>\n",
       "      <th>Relationship_Status</th>\n",
       "      <th>Substance_Use</th>\n",
       "      <th>Counseling_Service_Use</th>\n",
       "      <th>Family_History</th>\n",
       "      <th>Chronic_Illness</th>\n",
       "      <th>Financial_Stress</th>\n",
       "      <th>Extracurricular_Involvement</th>\n",
       "      <th>Semester_Credit_Load</th>\n",
       "      <th>Residence_Type</th>\n",
       "    </tr>\n",
       "  </thead>\n",
       "  <tbody>\n",
       "    <tr>\n",
       "      <th>count</th>\n",
       "      <td>7022.000000</td>\n",
       "      <td>7022</td>\n",
       "      <td>7022</td>\n",
       "      <td>7010.00000</td>\n",
       "      <td>7022.000000</td>\n",
       "      <td>7022.000000</td>\n",
       "      <td>7022.000000</td>\n",
       "      <td>7022</td>\n",
       "      <td>7022</td>\n",
       "      <td>7022</td>\n",
       "      <td>7022</td>\n",
       "      <td>7022</td>\n",
       "      <td>7007</td>\n",
       "      <td>7022</td>\n",
       "      <td>7022</td>\n",
       "      <td>7022</td>\n",
       "      <td>7022.000000</td>\n",
       "      <td>7022</td>\n",
       "      <td>7022.000000</td>\n",
       "      <td>7022</td>\n",
       "    </tr>\n",
       "    <tr>\n",
       "      <th>unique</th>\n",
       "      <td>NaN</td>\n",
       "      <td>6</td>\n",
       "      <td>2</td>\n",
       "      <td>NaN</td>\n",
       "      <td>NaN</td>\n",
       "      <td>NaN</td>\n",
       "      <td>NaN</td>\n",
       "      <td>3</td>\n",
       "      <td>3</td>\n",
       "      <td>3</td>\n",
       "      <td>3</td>\n",
       "      <td>3</td>\n",
       "      <td>3</td>\n",
       "      <td>3</td>\n",
       "      <td>2</td>\n",
       "      <td>2</td>\n",
       "      <td>NaN</td>\n",
       "      <td>3</td>\n",
       "      <td>NaN</td>\n",
       "      <td>3</td>\n",
       "    </tr>\n",
       "    <tr>\n",
       "      <th>top</th>\n",
       "      <td>NaN</td>\n",
       "      <td>Medical</td>\n",
       "      <td>Male</td>\n",
       "      <td>NaN</td>\n",
       "      <td>NaN</td>\n",
       "      <td>NaN</td>\n",
       "      <td>NaN</td>\n",
       "      <td>Good</td>\n",
       "      <td>Moderate</td>\n",
       "      <td>Average</td>\n",
       "      <td>Moderate</td>\n",
       "      <td>Single</td>\n",
       "      <td>Never</td>\n",
       "      <td>Never</td>\n",
       "      <td>No</td>\n",
       "      <td>No</td>\n",
       "      <td>NaN</td>\n",
       "      <td>Moderate</td>\n",
       "      <td>NaN</td>\n",
       "      <td>On-Campus</td>\n",
       "    </tr>\n",
       "    <tr>\n",
       "      <th>freq</th>\n",
       "      <td>NaN</td>\n",
       "      <td>2105</td>\n",
       "      <td>3547</td>\n",
       "      <td>NaN</td>\n",
       "      <td>NaN</td>\n",
       "      <td>NaN</td>\n",
       "      <td>NaN</td>\n",
       "      <td>3589</td>\n",
       "      <td>3521</td>\n",
       "      <td>4268</td>\n",
       "      <td>3470</td>\n",
       "      <td>3574</td>\n",
       "      <td>5903</td>\n",
       "      <td>4263</td>\n",
       "      <td>4866</td>\n",
       "      <td>6678</td>\n",
       "      <td>NaN</td>\n",
       "      <td>3440</td>\n",
       "      <td>NaN</td>\n",
       "      <td>2815</td>\n",
       "    </tr>\n",
       "    <tr>\n",
       "      <th>mean</th>\n",
       "      <td>23.003418</td>\n",
       "      <td>NaN</td>\n",
       "      <td>NaN</td>\n",
       "      <td>3.49127</td>\n",
       "      <td>2.427941</td>\n",
       "      <td>2.254486</td>\n",
       "      <td>2.300484</td>\n",
       "      <td>NaN</td>\n",
       "      <td>NaN</td>\n",
       "      <td>NaN</td>\n",
       "      <td>NaN</td>\n",
       "      <td>NaN</td>\n",
       "      <td>NaN</td>\n",
       "      <td>NaN</td>\n",
       "      <td>NaN</td>\n",
       "      <td>NaN</td>\n",
       "      <td>2.453005</td>\n",
       "      <td>NaN</td>\n",
       "      <td>22.010538</td>\n",
       "      <td>NaN</td>\n",
       "    </tr>\n",
       "    <tr>\n",
       "      <th>std</th>\n",
       "      <td>3.853978</td>\n",
       "      <td>NaN</td>\n",
       "      <td>NaN</td>\n",
       "      <td>0.28742</td>\n",
       "      <td>1.638408</td>\n",
       "      <td>1.625193</td>\n",
       "      <td>1.624305</td>\n",
       "      <td>NaN</td>\n",
       "      <td>NaN</td>\n",
       "      <td>NaN</td>\n",
       "      <td>NaN</td>\n",
       "      <td>NaN</td>\n",
       "      <td>NaN</td>\n",
       "      <td>NaN</td>\n",
       "      <td>NaN</td>\n",
       "      <td>NaN</td>\n",
       "      <td>1.708995</td>\n",
       "      <td>NaN</td>\n",
       "      <td>4.358380</td>\n",
       "      <td>NaN</td>\n",
       "    </tr>\n",
       "    <tr>\n",
       "      <th>min</th>\n",
       "      <td>18.000000</td>\n",
       "      <td>NaN</td>\n",
       "      <td>NaN</td>\n",
       "      <td>2.44000</td>\n",
       "      <td>0.000000</td>\n",
       "      <td>0.000000</td>\n",
       "      <td>0.000000</td>\n",
       "      <td>NaN</td>\n",
       "      <td>NaN</td>\n",
       "      <td>NaN</td>\n",
       "      <td>NaN</td>\n",
       "      <td>NaN</td>\n",
       "      <td>NaN</td>\n",
       "      <td>NaN</td>\n",
       "      <td>NaN</td>\n",
       "      <td>NaN</td>\n",
       "      <td>0.000000</td>\n",
       "      <td>NaN</td>\n",
       "      <td>15.000000</td>\n",
       "      <td>NaN</td>\n",
       "    </tr>\n",
       "    <tr>\n",
       "      <th>25%</th>\n",
       "      <td>20.000000</td>\n",
       "      <td>NaN</td>\n",
       "      <td>NaN</td>\n",
       "      <td>3.29000</td>\n",
       "      <td>1.000000</td>\n",
       "      <td>1.000000</td>\n",
       "      <td>1.000000</td>\n",
       "      <td>NaN</td>\n",
       "      <td>NaN</td>\n",
       "      <td>NaN</td>\n",
       "      <td>NaN</td>\n",
       "      <td>NaN</td>\n",
       "      <td>NaN</td>\n",
       "      <td>NaN</td>\n",
       "      <td>NaN</td>\n",
       "      <td>NaN</td>\n",
       "      <td>1.000000</td>\n",
       "      <td>NaN</td>\n",
       "      <td>18.000000</td>\n",
       "      <td>NaN</td>\n",
       "    </tr>\n",
       "    <tr>\n",
       "      <th>50%</th>\n",
       "      <td>22.000000</td>\n",
       "      <td>NaN</td>\n",
       "      <td>NaN</td>\n",
       "      <td>3.50000</td>\n",
       "      <td>2.000000</td>\n",
       "      <td>2.000000</td>\n",
       "      <td>2.000000</td>\n",
       "      <td>NaN</td>\n",
       "      <td>NaN</td>\n",
       "      <td>NaN</td>\n",
       "      <td>NaN</td>\n",
       "      <td>NaN</td>\n",
       "      <td>NaN</td>\n",
       "      <td>NaN</td>\n",
       "      <td>NaN</td>\n",
       "      <td>NaN</td>\n",
       "      <td>2.000000</td>\n",
       "      <td>NaN</td>\n",
       "      <td>22.000000</td>\n",
       "      <td>NaN</td>\n",
       "    </tr>\n",
       "    <tr>\n",
       "      <th>75%</th>\n",
       "      <td>25.000000</td>\n",
       "      <td>NaN</td>\n",
       "      <td>NaN</td>\n",
       "      <td>3.70000</td>\n",
       "      <td>4.000000</td>\n",
       "      <td>3.000000</td>\n",
       "      <td>4.000000</td>\n",
       "      <td>NaN</td>\n",
       "      <td>NaN</td>\n",
       "      <td>NaN</td>\n",
       "      <td>NaN</td>\n",
       "      <td>NaN</td>\n",
       "      <td>NaN</td>\n",
       "      <td>NaN</td>\n",
       "      <td>NaN</td>\n",
       "      <td>NaN</td>\n",
       "      <td>4.000000</td>\n",
       "      <td>NaN</td>\n",
       "      <td>26.000000</td>\n",
       "      <td>NaN</td>\n",
       "    </tr>\n",
       "    <tr>\n",
       "      <th>max</th>\n",
       "      <td>35.000000</td>\n",
       "      <td>NaN</td>\n",
       "      <td>NaN</td>\n",
       "      <td>4.00000</td>\n",
       "      <td>5.000000</td>\n",
       "      <td>5.000000</td>\n",
       "      <td>5.000000</td>\n",
       "      <td>NaN</td>\n",
       "      <td>NaN</td>\n",
       "      <td>NaN</td>\n",
       "      <td>NaN</td>\n",
       "      <td>NaN</td>\n",
       "      <td>NaN</td>\n",
       "      <td>NaN</td>\n",
       "      <td>NaN</td>\n",
       "      <td>NaN</td>\n",
       "      <td>5.000000</td>\n",
       "      <td>NaN</td>\n",
       "      <td>29.000000</td>\n",
       "      <td>NaN</td>\n",
       "    </tr>\n",
       "  </tbody>\n",
       "</table>\n",
       "</div>"
      ],
      "text/plain": [
       "                Age   Course Gender        CGPA  Stress_Level  \\\n",
       "count   7022.000000     7022   7022  7010.00000   7022.000000   \n",
       "unique          NaN        6      2         NaN           NaN   \n",
       "top             NaN  Medical   Male         NaN           NaN   \n",
       "freq            NaN     2105   3547         NaN           NaN   \n",
       "mean      23.003418      NaN    NaN     3.49127      2.427941   \n",
       "std        3.853978      NaN    NaN     0.28742      1.638408   \n",
       "min       18.000000      NaN    NaN     2.44000      0.000000   \n",
       "25%       20.000000      NaN    NaN     3.29000      1.000000   \n",
       "50%       22.000000      NaN    NaN     3.50000      2.000000   \n",
       "75%       25.000000      NaN    NaN     3.70000      4.000000   \n",
       "max       35.000000      NaN    NaN     4.00000      5.000000   \n",
       "\n",
       "        Depression_Score  Anxiety_Score Sleep_Quality Physical_Activity  \\\n",
       "count        7022.000000    7022.000000          7022              7022   \n",
       "unique               NaN            NaN             3                 3   \n",
       "top                  NaN            NaN          Good          Moderate   \n",
       "freq                 NaN            NaN          3589              3521   \n",
       "mean            2.254486       2.300484           NaN               NaN   \n",
       "std             1.625193       1.624305           NaN               NaN   \n",
       "min             0.000000       0.000000           NaN               NaN   \n",
       "25%             1.000000       1.000000           NaN               NaN   \n",
       "50%             2.000000       2.000000           NaN               NaN   \n",
       "75%             3.000000       4.000000           NaN               NaN   \n",
       "max             5.000000       5.000000           NaN               NaN   \n",
       "\n",
       "       Diet_Quality Social_Support Relationship_Status Substance_Use  \\\n",
       "count          7022           7022                7022          7007   \n",
       "unique            3              3                   3             3   \n",
       "top         Average       Moderate              Single         Never   \n",
       "freq           4268           3470                3574          5903   \n",
       "mean            NaN            NaN                 NaN           NaN   \n",
       "std             NaN            NaN                 NaN           NaN   \n",
       "min             NaN            NaN                 NaN           NaN   \n",
       "25%             NaN            NaN                 NaN           NaN   \n",
       "50%             NaN            NaN                 NaN           NaN   \n",
       "75%             NaN            NaN                 NaN           NaN   \n",
       "max             NaN            NaN                 NaN           NaN   \n",
       "\n",
       "       Counseling_Service_Use Family_History Chronic_Illness  \\\n",
       "count                    7022           7022            7022   \n",
       "unique                      3              2               2   \n",
       "top                     Never             No              No   \n",
       "freq                     4263           4866            6678   \n",
       "mean                      NaN            NaN             NaN   \n",
       "std                       NaN            NaN             NaN   \n",
       "min                       NaN            NaN             NaN   \n",
       "25%                       NaN            NaN             NaN   \n",
       "50%                       NaN            NaN             NaN   \n",
       "75%                       NaN            NaN             NaN   \n",
       "max                       NaN            NaN             NaN   \n",
       "\n",
       "        Financial_Stress Extracurricular_Involvement  Semester_Credit_Load  \\\n",
       "count        7022.000000                        7022           7022.000000   \n",
       "unique               NaN                           3                   NaN   \n",
       "top                  NaN                    Moderate                   NaN   \n",
       "freq                 NaN                        3440                   NaN   \n",
       "mean            2.453005                         NaN             22.010538   \n",
       "std             1.708995                         NaN              4.358380   \n",
       "min             0.000000                         NaN             15.000000   \n",
       "25%             1.000000                         NaN             18.000000   \n",
       "50%             2.000000                         NaN             22.000000   \n",
       "75%             4.000000                         NaN             26.000000   \n",
       "max             5.000000                         NaN             29.000000   \n",
       "\n",
       "       Residence_Type  \n",
       "count            7022  \n",
       "unique              3  \n",
       "top         On-Campus  \n",
       "freq             2815  \n",
       "mean              NaN  \n",
       "std               NaN  \n",
       "min               NaN  \n",
       "25%               NaN  \n",
       "50%               NaN  \n",
       "75%               NaN  \n",
       "max               NaN  "
      ]
     },
     "execution_count": 10,
     "metadata": {},
     "output_type": "execute_result"
    }
   ],
   "source": [
    "# 2.3 Display summary statistics for all columns\n",
    "df.describe(include='all')"
   ]
  },
  {
   "cell_type": "markdown",
   "id": "fae3152b-0483-4f3a-9a03-b12a7dc9d2c4",
   "metadata": {},
   "source": [
    "#### 2.4 Dokumentation: Udforsk kolonnetyper og manglende værdier\n",
    "Vi brugte `df.info` til at forstå datatyperne og **kontrollere for ikke-null værdier**. Datasættet indeholder primært kategoriske variable (`object`), samt nogle få numeriske variable såsom `Age`, `CGPA`, `Stress_Level` og `Depression_Score`.\n",
    "\n",
    "Der blev fundet manglende værdier i kolonnerne `CGPA` (12 rækker) og `Substance_Use` (15 rækker). Disse vil vi håndtere i rensefasen.\n",
    "\n",
    "Funktionen `describe(include='all')` gav os indsigt i værdifordelinger og hyppigheden af kategorier, hvilket vil hjælpe med valg af **feature encoding** og **modeling choices**.\n"
   ]
  },
  {
   "cell_type": "markdown",
   "id": "48d6d0ea-0664-4cb6-a0ef-0debebc4d9d0",
   "metadata": {},
   "source": [
    "## 3. Rens datasættet"
   ]
  },
  {
   "cell_type": "markdown",
   "id": "01b863f5-2d59-476c-9aa2-47b078e842f3",
   "metadata": {},
   "source": [
    "### 3.1 Fjern manglende værdier"
   ]
  },
  {
   "cell_type": "code",
   "execution_count": 14,
   "id": "10e0cf5b-2606-40c6-8ffb-5db96ae4efbf",
   "metadata": {},
   "outputs": [
    {
     "data": {
      "text/html": [
       "<div>\n",
       "<style scoped>\n",
       "    .dataframe tbody tr th:only-of-type {\n",
       "        vertical-align: middle;\n",
       "    }\n",
       "\n",
       "    .dataframe tbody tr th {\n",
       "        vertical-align: top;\n",
       "    }\n",
       "\n",
       "    .dataframe thead th {\n",
       "        text-align: right;\n",
       "    }\n",
       "</style>\n",
       "<table border=\"1\" class=\"dataframe\">\n",
       "  <thead>\n",
       "    <tr style=\"text-align: right;\">\n",
       "      <th></th>\n",
       "      <th>Age</th>\n",
       "      <th>Course</th>\n",
       "      <th>Gender</th>\n",
       "      <th>CGPA</th>\n",
       "      <th>Stress_Level</th>\n",
       "      <th>Depression_Score</th>\n",
       "      <th>Anxiety_Score</th>\n",
       "      <th>Sleep_Quality</th>\n",
       "      <th>Physical_Activity</th>\n",
       "      <th>Diet_Quality</th>\n",
       "      <th>Social_Support</th>\n",
       "      <th>Relationship_Status</th>\n",
       "      <th>Substance_Use</th>\n",
       "      <th>Counseling_Service_Use</th>\n",
       "      <th>Family_History</th>\n",
       "      <th>Chronic_Illness</th>\n",
       "      <th>Financial_Stress</th>\n",
       "      <th>Extracurricular_Involvement</th>\n",
       "      <th>Semester_Credit_Load</th>\n",
       "      <th>Residence_Type</th>\n",
       "    </tr>\n",
       "  </thead>\n",
       "  <tbody>\n",
       "    <tr>\n",
       "      <th>0</th>\n",
       "      <td>25</td>\n",
       "      <td>Others</td>\n",
       "      <td>Male</td>\n",
       "      <td>3.56</td>\n",
       "      <td>3</td>\n",
       "      <td>3</td>\n",
       "      <td>2</td>\n",
       "      <td>Good</td>\n",
       "      <td>Moderate</td>\n",
       "      <td>Good</td>\n",
       "      <td>Moderate</td>\n",
       "      <td>Married</td>\n",
       "      <td>Never</td>\n",
       "      <td>Never</td>\n",
       "      <td>No</td>\n",
       "      <td>No</td>\n",
       "      <td>2</td>\n",
       "      <td>Moderate</td>\n",
       "      <td>17</td>\n",
       "      <td>On-Campus</td>\n",
       "    </tr>\n",
       "    <tr>\n",
       "      <th>1</th>\n",
       "      <td>24</td>\n",
       "      <td>Engineering</td>\n",
       "      <td>Female</td>\n",
       "      <td>2.44</td>\n",
       "      <td>0</td>\n",
       "      <td>3</td>\n",
       "      <td>0</td>\n",
       "      <td>Average</td>\n",
       "      <td>Low</td>\n",
       "      <td>Average</td>\n",
       "      <td>Low</td>\n",
       "      <td>Single</td>\n",
       "      <td>Occasionally</td>\n",
       "      <td>Occasionally</td>\n",
       "      <td>No</td>\n",
       "      <td>No</td>\n",
       "      <td>3</td>\n",
       "      <td>Low</td>\n",
       "      <td>27</td>\n",
       "      <td>On-Campus</td>\n",
       "    </tr>\n",
       "    <tr>\n",
       "      <th>2</th>\n",
       "      <td>19</td>\n",
       "      <td>Business</td>\n",
       "      <td>Female</td>\n",
       "      <td>3.74</td>\n",
       "      <td>4</td>\n",
       "      <td>0</td>\n",
       "      <td>3</td>\n",
       "      <td>Good</td>\n",
       "      <td>Low</td>\n",
       "      <td>Average</td>\n",
       "      <td>Moderate</td>\n",
       "      <td>In a Relationship</td>\n",
       "      <td>Never</td>\n",
       "      <td>Occasionally</td>\n",
       "      <td>No</td>\n",
       "      <td>No</td>\n",
       "      <td>4</td>\n",
       "      <td>High</td>\n",
       "      <td>15</td>\n",
       "      <td>On-Campus</td>\n",
       "    </tr>\n",
       "    <tr>\n",
       "      <th>4</th>\n",
       "      <td>18</td>\n",
       "      <td>Business</td>\n",
       "      <td>Male</td>\n",
       "      <td>3.40</td>\n",
       "      <td>3</td>\n",
       "      <td>3</td>\n",
       "      <td>4</td>\n",
       "      <td>Good</td>\n",
       "      <td>Low</td>\n",
       "      <td>Average</td>\n",
       "      <td>High</td>\n",
       "      <td>Married</td>\n",
       "      <td>Never</td>\n",
       "      <td>Never</td>\n",
       "      <td>No</td>\n",
       "      <td>Yes</td>\n",
       "      <td>0</td>\n",
       "      <td>High</td>\n",
       "      <td>23</td>\n",
       "      <td>On-Campus</td>\n",
       "    </tr>\n",
       "    <tr>\n",
       "      <th>5</th>\n",
       "      <td>21</td>\n",
       "      <td>Medical</td>\n",
       "      <td>Female</td>\n",
       "      <td>3.35</td>\n",
       "      <td>2</td>\n",
       "      <td>4</td>\n",
       "      <td>3</td>\n",
       "      <td>Good</td>\n",
       "      <td>Moderate</td>\n",
       "      <td>Good</td>\n",
       "      <td>High</td>\n",
       "      <td>Single</td>\n",
       "      <td>Never</td>\n",
       "      <td>Never</td>\n",
       "      <td>No</td>\n",
       "      <td>No</td>\n",
       "      <td>5</td>\n",
       "      <td>Moderate</td>\n",
       "      <td>19</td>\n",
       "      <td>Off-Campus</td>\n",
       "    </tr>\n",
       "    <tr>\n",
       "      <th>...</th>\n",
       "      <td>...</td>\n",
       "      <td>...</td>\n",
       "      <td>...</td>\n",
       "      <td>...</td>\n",
       "      <td>...</td>\n",
       "      <td>...</td>\n",
       "      <td>...</td>\n",
       "      <td>...</td>\n",
       "      <td>...</td>\n",
       "      <td>...</td>\n",
       "      <td>...</td>\n",
       "      <td>...</td>\n",
       "      <td>...</td>\n",
       "      <td>...</td>\n",
       "      <td>...</td>\n",
       "      <td>...</td>\n",
       "      <td>...</td>\n",
       "      <td>...</td>\n",
       "      <td>...</td>\n",
       "      <td>...</td>\n",
       "    </tr>\n",
       "    <tr>\n",
       "      <th>7016</th>\n",
       "      <td>20</td>\n",
       "      <td>Law</td>\n",
       "      <td>Female</td>\n",
       "      <td>3.33</td>\n",
       "      <td>1</td>\n",
       "      <td>1</td>\n",
       "      <td>1</td>\n",
       "      <td>Average</td>\n",
       "      <td>Low</td>\n",
       "      <td>Average</td>\n",
       "      <td>Moderate</td>\n",
       "      <td>In a Relationship</td>\n",
       "      <td>Never</td>\n",
       "      <td>Occasionally</td>\n",
       "      <td>No</td>\n",
       "      <td>No</td>\n",
       "      <td>3</td>\n",
       "      <td>Moderate</td>\n",
       "      <td>29</td>\n",
       "      <td>Off-Campus</td>\n",
       "    </tr>\n",
       "    <tr>\n",
       "      <th>7017</th>\n",
       "      <td>20</td>\n",
       "      <td>Law</td>\n",
       "      <td>Female</td>\n",
       "      <td>3.69</td>\n",
       "      <td>3</td>\n",
       "      <td>1</td>\n",
       "      <td>5</td>\n",
       "      <td>Good</td>\n",
       "      <td>Low</td>\n",
       "      <td>Poor</td>\n",
       "      <td>High</td>\n",
       "      <td>Single</td>\n",
       "      <td>Never</td>\n",
       "      <td>Frequently</td>\n",
       "      <td>Yes</td>\n",
       "      <td>No</td>\n",
       "      <td>1</td>\n",
       "      <td>High</td>\n",
       "      <td>26</td>\n",
       "      <td>Off-Campus</td>\n",
       "    </tr>\n",
       "    <tr>\n",
       "      <th>7018</th>\n",
       "      <td>24</td>\n",
       "      <td>Medical</td>\n",
       "      <td>Female</td>\n",
       "      <td>3.73</td>\n",
       "      <td>3</td>\n",
       "      <td>4</td>\n",
       "      <td>1</td>\n",
       "      <td>Good</td>\n",
       "      <td>Moderate</td>\n",
       "      <td>Average</td>\n",
       "      <td>High</td>\n",
       "      <td>Single</td>\n",
       "      <td>Never</td>\n",
       "      <td>Occasionally</td>\n",
       "      <td>No</td>\n",
       "      <td>No</td>\n",
       "      <td>3</td>\n",
       "      <td>Low</td>\n",
       "      <td>15</td>\n",
       "      <td>Off-Campus</td>\n",
       "    </tr>\n",
       "    <tr>\n",
       "      <th>7019</th>\n",
       "      <td>26</td>\n",
       "      <td>Others</td>\n",
       "      <td>Male</td>\n",
       "      <td>3.65</td>\n",
       "      <td>4</td>\n",
       "      <td>5</td>\n",
       "      <td>1</td>\n",
       "      <td>Good</td>\n",
       "      <td>High</td>\n",
       "      <td>Poor</td>\n",
       "      <td>Moderate</td>\n",
       "      <td>Married</td>\n",
       "      <td>Never</td>\n",
       "      <td>Occasionally</td>\n",
       "      <td>No</td>\n",
       "      <td>Yes</td>\n",
       "      <td>4</td>\n",
       "      <td>Moderate</td>\n",
       "      <td>17</td>\n",
       "      <td>Off-Campus</td>\n",
       "    </tr>\n",
       "    <tr>\n",
       "      <th>7020</th>\n",
       "      <td>24</td>\n",
       "      <td>Medical</td>\n",
       "      <td>Male</td>\n",
       "      <td>3.65</td>\n",
       "      <td>4</td>\n",
       "      <td>3</td>\n",
       "      <td>4</td>\n",
       "      <td>Average</td>\n",
       "      <td>High</td>\n",
       "      <td>Poor</td>\n",
       "      <td>Moderate</td>\n",
       "      <td>Single</td>\n",
       "      <td>Never</td>\n",
       "      <td>Never</td>\n",
       "      <td>No</td>\n",
       "      <td>Yes</td>\n",
       "      <td>4</td>\n",
       "      <td>Moderate</td>\n",
       "      <td>18</td>\n",
       "      <td>Off-Campus</td>\n",
       "    </tr>\n",
       "  </tbody>\n",
       "</table>\n",
       "<p>6995 rows × 20 columns</p>\n",
       "</div>"
      ],
      "text/plain": [
       "      Age       Course  Gender  CGPA  Stress_Level  Depression_Score  \\\n",
       "0      25       Others    Male  3.56             3                 3   \n",
       "1      24  Engineering  Female  2.44             0                 3   \n",
       "2      19     Business  Female  3.74             4                 0   \n",
       "4      18     Business    Male  3.40             3                 3   \n",
       "5      21      Medical  Female  3.35             2                 4   \n",
       "...   ...          ...     ...   ...           ...               ...   \n",
       "7016   20          Law  Female  3.33             1                 1   \n",
       "7017   20          Law  Female  3.69             3                 1   \n",
       "7018   24      Medical  Female  3.73             3                 4   \n",
       "7019   26       Others    Male  3.65             4                 5   \n",
       "7020   24      Medical    Male  3.65             4                 3   \n",
       "\n",
       "      Anxiety_Score Sleep_Quality Physical_Activity Diet_Quality  \\\n",
       "0                 2          Good          Moderate         Good   \n",
       "1                 0       Average               Low      Average   \n",
       "2                 3          Good               Low      Average   \n",
       "4                 4          Good               Low      Average   \n",
       "5                 3          Good          Moderate         Good   \n",
       "...             ...           ...               ...          ...   \n",
       "7016              1       Average               Low      Average   \n",
       "7017              5          Good               Low         Poor   \n",
       "7018              1          Good          Moderate      Average   \n",
       "7019              1          Good              High         Poor   \n",
       "7020              4       Average              High         Poor   \n",
       "\n",
       "     Social_Support Relationship_Status Substance_Use Counseling_Service_Use  \\\n",
       "0          Moderate             Married         Never                  Never   \n",
       "1               Low              Single  Occasionally           Occasionally   \n",
       "2          Moderate   In a Relationship         Never           Occasionally   \n",
       "4              High             Married         Never                  Never   \n",
       "5              High              Single         Never                  Never   \n",
       "...             ...                 ...           ...                    ...   \n",
       "7016       Moderate   In a Relationship         Never           Occasionally   \n",
       "7017           High              Single         Never             Frequently   \n",
       "7018           High              Single         Never           Occasionally   \n",
       "7019       Moderate             Married         Never           Occasionally   \n",
       "7020       Moderate              Single         Never                  Never   \n",
       "\n",
       "     Family_History Chronic_Illness  Financial_Stress  \\\n",
       "0                No              No                 2   \n",
       "1                No              No                 3   \n",
       "2                No              No                 4   \n",
       "4                No             Yes                 0   \n",
       "5                No              No                 5   \n",
       "...             ...             ...               ...   \n",
       "7016             No              No                 3   \n",
       "7017            Yes              No                 1   \n",
       "7018             No              No                 3   \n",
       "7019             No             Yes                 4   \n",
       "7020             No             Yes                 4   \n",
       "\n",
       "     Extracurricular_Involvement  Semester_Credit_Load Residence_Type  \n",
       "0                       Moderate                    17      On-Campus  \n",
       "1                            Low                    27      On-Campus  \n",
       "2                           High                    15      On-Campus  \n",
       "4                           High                    23      On-Campus  \n",
       "5                       Moderate                    19     Off-Campus  \n",
       "...                          ...                   ...            ...  \n",
       "7016                    Moderate                    29     Off-Campus  \n",
       "7017                        High                    26     Off-Campus  \n",
       "7018                         Low                    15     Off-Campus  \n",
       "7019                    Moderate                    17     Off-Campus  \n",
       "7020                    Moderate                    18     Off-Campus  \n",
       "\n",
       "[6995 rows x 20 columns]"
      ]
     },
     "execution_count": 14,
     "metadata": {},
     "output_type": "execute_result"
    }
   ],
   "source": [
    "# 3.1.1 Håndtéring af manglende værdier\n",
    "df_clean = df.dropna(subset=['CGPA', 'Substance_Use']).copy()\n",
    "df_clean"
   ]
  },
  {
   "cell_type": "markdown",
   "id": "81435561-6ade-4dd1-aa17-b78a3e4e44bd",
   "metadata": {},
   "source": [
    "- Fjerner rækker med manglende `CGPA` (12 mangler) eller `Substance_Use` (15 mangler).  \n",
    "    - I alt **27 rækker** ud af 7022."
   ]
  },
  {
   "cell_type": "markdown",
   "id": "de81913a-0f14-4b29-90d1-7681f32539ef",
   "metadata": {},
   "source": [
    "### 3.2 Encode Cateogrical Features"
   ]
  },
  {
   "cell_type": "code",
   "execution_count": 17,
   "id": "60c8f660-2071-4caa-8a60-3291e2a0ea41",
   "metadata": {},
   "outputs": [],
   "source": [
    "# 3.2.1 Imports\n",
    "from sklearn.preprocessing import LabelEncoder"
   ]
  },
  {
   "cell_type": "code",
   "execution_count": 18,
   "id": "93555579-1125-4c0c-be2b-b3f1e511b90c",
   "metadata": {},
   "outputs": [
    {
     "data": {
      "text/plain": [
       "Index(['Course', 'Gender', 'Sleep_Quality', 'Physical_Activity',\n",
       "       'Diet_Quality', 'Social_Support', 'Relationship_Status',\n",
       "       'Substance_Use', 'Counseling_Service_Use', 'Family_History',\n",
       "       'Chronic_Illness', 'Extracurricular_Involvement', 'Residence_Type'],\n",
       "      dtype='object')"
      ]
     },
     "execution_count": 18,
     "metadata": {},
     "output_type": "execute_result"
    }
   ],
   "source": [
    "# 3.2.2 Identify categorical columns\n",
    "cat_cols = df_clean.select_dtypes(include='object').columns\n",
    "cat_cols"
   ]
  },
  {
   "cell_type": "code",
   "execution_count": 19,
   "id": "f3aca9bb-69b7-4a1b-8458-b4e5fe50c611",
   "metadata": {},
   "outputs": [],
   "source": [
    "# 3.2.3 Use LabelEncoder for conversion\n",
    "label_encoders = {}\n",
    "\n",
    "for col in cat_cols:\n",
    "    le = LabelEncoder()\n",
    "    df_clean[col] = le.fit_transform(df_clean[col])\n",
    "    label_encoders[col] = le"
   ]
  },
  {
   "cell_type": "code",
   "execution_count": 20,
   "id": "2f1ecf48-962d-47cd-8f97-ea841cc92e05",
   "metadata": {},
   "outputs": [
    {
     "name": "stdout",
     "output_type": "stream",
     "text": [
      "Missing values after cleaning:\n",
      "Age                            0\n",
      "Course                         0\n",
      "Gender                         0\n",
      "CGPA                           0\n",
      "Stress_Level                   0\n",
      "Depression_Score               0\n",
      "Anxiety_Score                  0\n",
      "Sleep_Quality                  0\n",
      "Physical_Activity              0\n",
      "Diet_Quality                   0\n",
      "Social_Support                 0\n",
      "Relationship_Status            0\n",
      "Substance_Use                  0\n",
      "Counseling_Service_Use         0\n",
      "Family_History                 0\n",
      "Chronic_Illness                0\n",
      "Financial_Stress               0\n",
      "Extracurricular_Involvement    0\n",
      "Semester_Credit_Load           0\n",
      "Residence_Type                 0\n",
      "dtype: int64\n"
     ]
    }
   ],
   "source": [
    "# 3.2.4 Double-check for nulls\n",
    "print(\"Missing values after cleaning:\")\n",
    "print(df_clean.isnull().sum())"
   ]
  },
  {
   "cell_type": "markdown",
   "id": "e19b5072-db42-403b-afc0-7fa7467da17a",
   "metadata": {},
   "source": [
    "#### 3.2.5 Beskrivelse: Data Cleaning  \n",
    "Vi **fjernede rækker** med manglende værdier i `CGPA` og `Substance_Use` (i alt 27 rækker ud af 7022), da antallet af manglende værdier var minimalt.\n",
    "\n",
    "Derefter **kodede vi kategoriske** variable ved hjælp af `LabelEncoder`, som konverterer tekstetiketter til numeriske værdier. Denne transformation er nødvendig for maskinlæringsmodeller, der kræver numerisk input.\n",
    "\n",
    "Efter datarydningen ***bekræftede vi, at der ikke længere var nogen manglende værdier*** i datasættet.\n"
   ]
  },
  {
   "cell_type": "markdown",
   "id": "b498543b-db7a-43ee-989a-efe52eb2f26f",
   "metadata": {},
   "source": [
    "## 4. Visualize Feature Distributions"
   ]
  },
  {
   "cell_type": "code",
   "execution_count": 23,
   "id": "9aab8a10-3e11-4232-9018-e25ac2bea401",
   "metadata": {},
   "outputs": [],
   "source": [
    "# 4.1 Imports\n",
    "import matplotlib.pyplot as plt\n",
    "import seaborn as sns"
   ]
  },
  {
   "cell_type": "code",
   "execution_count": 24,
   "id": "aafccff2-9313-4822-9e0b-dd0c5c75ca29",
   "metadata": {},
   "outputs": [],
   "source": [
    "# 4.2 Setting a plot style (Optional)\n",
    "sns.set(style=\"whitegrid\")"
   ]
  },
  {
   "cell_type": "markdown",
   "id": "e31cf353-90da-4000-b79d-44fd7ddc855c",
   "metadata": {},
   "source": [
    "### 4.3 Plot Features"
   ]
  },
  {
   "cell_type": "code",
   "execution_count": 26,
   "id": "929a1fea-5a46-4ce6-aa2a-609d1d81a203",
   "metadata": {},
   "outputs": [
    {
     "data": {
      "image/png": "[encoded data removed]",
      "text/plain": [
       "<Figure size 800x500 with 1 Axes>"
      ]
     },
     "metadata": {},
     "output_type": "display_data"
    }
   ],
   "source": [
    "# 4.3.1 Plot a Single Feature (e.g., Stress Level)\n",
    "plt.figure(figsize=(8, 5))\n",
    "sns.histplot(df_clean[\"Stress_Level\"], kde=True) # kde=True addsa smooth curve to visualize density\n",
    "plt.title(\"Stress Level Distribution\")\n",
    "plt.xlabel(\"Stress Level\")\n",
    "plt.ylabel(\"Count\")\n",
    "plt.show()"
   ]
  },
  {
   "cell_type": "markdown",
   "id": "02651069-5a9d-41b4-8296-a1e728107b0a",
   "metadata": {},
   "source": [
    "#### 4.3.1.1 Plotbeskrivelse: Stress Level Distribution\n",
    "Vi visualiserede fordelingen af variablen `Stress_Level`. Størstedelen af de studerende rapporterer stressniveauer **i midten af skalaen** ***(især omkring 2-3)***, mens færre rapporterer ekstremt lave (0) eller høje (5) niveauer.\n",
    "\n",
    "Denne type fordeling antyder et balanceret, men varieret datasæt — nyttigt til både **klassifikations-** og **clustering** opgaver. Vi kan forvente, at vores modeller finder **tydelige undergrupper** baseret på svarene om stressniveau."
   ]
  },
  {
   "cell_type": "code",
   "execution_count": 28,
   "id": "1f835c6e-9301-4e95-8a1d-2c9c36b457a1",
   "metadata": {},
   "outputs": [
    {
     "data": {
      "image/png": "[encoded data removed]",
      "text/plain": [
       "<Figure size 800x500 with 1 Axes>"
      ]
     },
     "metadata": {},
     "output_type": "display_data"
    }
   ],
   "source": [
    "# 4.3.2 Plot another feature (Anxiety Score)\n",
    "plt.figure(figsize=(8, 5))\n",
    "sns.histplot(df_clean[\"Anxiety_Score\"], kde=True)\n",
    "plt.title(\"Anxiety Score Distribution\")\n",
    "plt.xlabel(\"Anxiety Score\")\n",
    "plt.ylabel(\"Count\")\n",
    "plt.show()"
   ]
  },
  {
   "cell_type": "markdown",
   "id": "fd72bd12-829e-4e7d-a4fb-8674ee8ea3eb",
   "metadata": {},
   "source": [
    "#### 4.3.2.1 Beskrivelse: Anxiety Score Distribution\n",
    "Fordelingen af variablen `Anxiety_Score` viser en koncentration af studerende med scorer omkring 2 til 3, med den **højeste peak ved 3**. Dette indikerer, at **moderat angst** er mest **almindelig** blandt de studerende i datasættet.\n",
    "\n",
    "Mønstret ligner fordelingen af *Stress Level Distribution*, hvilket antyder en **mulig sammenhæng mellem de to** — noget vi eventuelt kan analysere senere ved hjælp af **korrelationsplots** eller **modellering**."
   ]
  },
  {
   "cell_type": "code",
   "execution_count": 30,
   "id": "8184287d-da35-4caa-ba66-f4ef4dd2ffdf",
   "metadata": {},
   "outputs": [
    {
     "data": {
      "image/png": "[encoded data removed]",
      "text/plain": [
       "<Figure size 800x500 with 1 Axes>"
      ]
     },
     "metadata": {},
     "output_type": "display_data"
    }
   ],
   "source": [
    "# 4.3.3 Plot another feature (Sleep Qualtity)\n",
    "plt.figure(figsize=(8, 5))\n",
    "sns.histplot(df_clean[\"Sleep_Quality\"], bins=3)\n",
    "plt.title(\"Sleep Quality (Encoded)\")\n",
    "plt.xlabel(\"Sleep Quality (Label Encoded)\")\n",
    "plt.ylabel(\"Count\")\n",
    "plt.show()"
   ]
  },
  {
   "cell_type": "markdown",
   "id": "40a7ea73-1746-4ab1-8a4b-3afd17522a0c",
   "metadata": {},
   "source": [
    "#### 4.3.3.1 Beskrivelse: Sleep Quality Distribution\n",
    "Vi undersøgte fordelingen af variablen `Sleep_Quality`, som blev *label encoded* fra kategoriske værdier: *\"Poor\", \"Average\" og \"Good\"*.\n",
    "\n",
    "Størstedelen af de studerende rapporterede en **\"Average\"** søvnkvalitet, efterfulgt af en betydelig **andel med \"Poor\"** søvn. Kun få studerende rapporterede \"Good\" søvnkvalitet. Denne skævhed antyder **potentielle velværemæssige udfordringer relateret til søvn** blandt de studerende og kan være en værdifuld variabel i modellering af mentale sundhedsudfald."
   ]
  },
  {
   "cell_type": "code",
   "execution_count": 32,
   "id": "23da0d99-2f10-4757-a054-9b8bbf03d6ab",
   "metadata": {},
   "outputs": [
    {
     "data": {
      "image/png": "[encoded data removed]",
      "text/plain": [
       "<Figure size 800x500 with 1 Axes>"
      ]
     },
     "metadata": {},
     "output_type": "display_data"
    }
   ],
   "source": [
    "# 4.3.4 Plot another feature (Depression Score)\n",
    "plt.figure(figsize=(8, 5))\n",
    "sns.histplot(df_clean[\"Depression_Score\"], kde=True)\n",
    "plt.title(\"Depression Score Distribution\")\n",
    "plt.xlabel(\"Depression Score\")\n",
    "plt.ylabel(\"Count\")\n",
    "plt.show()"
   ]
  },
  {
   "cell_type": "markdown",
   "id": "793cc72d-602e-4fd7-a046-bb59c446e59c",
   "metadata": {},
   "source": [
    "#### 4.3.4.1 Beskrivelse: Depression Score Distribution  \n",
    "Fordelingen af variablen `Depression_Score` viser, at de fleste studerende rapporterer scorer **mellem 1 og 3**. Dette antyder, at **milde til moderate depressionssymptomer** er de **mest almindelige** i datasættet.\n",
    "\n",
    "Der ses et **tydeligt fald** i hyppighed **efter score 3**, hvilket indikerer, at færre studerende rapporterer alvorlige symptomer. Dette gør `Depression_Score` til **en stærk kandidat** til både **prædiktiv modellering og clustering**, da den viser variation, men stadig har en vis struktur."
   ]
  },
  {
   "cell_type": "markdown",
   "id": "c2325cd4-5ebe-4006-a6d1-99f1f10b30d4",
   "metadata": {},
   "source": [
    "## 5. Choosing Prediction Target"
   ]
  },
  {
   "cell_type": "markdown",
   "id": "c7fa81f7-cb73-42ff-9413-cd2804bf87f5",
   "metadata": {},
   "source": [
    "**Prediction Target valg**: `Stress_Level`\n",
    "\n",
    "Vi har valgt `Stress_Level` som målvariabel til *supervised learning*. Denne variabel repræsenterer de studerendes selvrapporterede stressniveau på en skala fra 0 til 5. Den er **klart defineret, allerede udforsket, og har en tæt sammenhæng med flere adfærds- og livsstilsrelaterede faktorer** som søvn, kost og fysisk aktivitet."
   ]
  },
  {
   "cell_type": "code",
   "execution_count": 36,
   "id": "c218120b-4a40-42e7-b5ab-ae9f316d817d",
   "metadata": {},
   "outputs": [
    {
     "data": {
      "text/plain": [
       "3    1397\n",
       "2    1274\n",
       "1    1226\n",
       "0    1094\n",
       "5    1013\n",
       "4     991\n",
       "Name: Stress_Level, dtype: int64"
      ]
     },
     "execution_count": 36,
     "metadata": {},
     "output_type": "execute_result"
    }
   ],
   "source": [
    "# 5.2.1 Check the target `Stress_Level` to see if the target is balanced\n",
    "df_clean[\"Stress_Level\"].value_counts()"
   ]
  },
  {
   "cell_type": "markdown",
   "id": "fe9e02e8-52a3-4271-bc80-b3186ade201e",
   "metadata": {},
   "source": [
    "#### 5.2.1.1 Beskrivelse: Undersøgelse af den valgte måls distributions  \n",
    "Vi undersøgte fordelingen af vores valgte målvariabel, `Stress_Level`. Antallet af observationer pr. klasse varierede fra 991 (niveau 4) til 1397 (niveau 3), hvilket viser, at der ikke er nogen markant klasseubalance.\n",
    "\n",
    "Derfor **behøver vi på nuværende tidspunkt ikke anvende class weighting eller resampling-teknikker**, og vi kan fortsætte med at bruge standard klassifikationsmetoder uden justeringer."
   ]
  },
  {
   "cell_type": "markdown",
   "id": "7f75580b-fd41-42a9-a19b-bfb0c59188f0",
   "metadata": {},
   "source": [
    "## 6. Train a Supervised Model"
   ]
  },
  {
   "cell_type": "code",
   "execution_count": 39,
   "id": "6e6c70d3-454d-48b9-a498-8b8a65cc9cb7",
   "metadata": {},
   "outputs": [],
   "source": [
    "# 6.1 Select Our Input and Features and Target\n",
    "X = df_clean.drop(columns=['Stress_Level'])\n",
    "y = df_clean['Stress_Level']"
   ]
  },
  {
   "cell_type": "code",
   "execution_count": 40,
   "id": "44ac2945-e40d-473c-a0c8-b9d832cc4cf4",
   "metadata": {},
   "outputs": [],
   "source": [
    "# 6.2 Split Into Training and Test Sets\n",
    "from sklearn.model_selection import train_test_split\n",
    "\n",
    "X_train, X_test, y_train, y_test = train_test_split(X, y, test_size=0.2, random_state=42)"
   ]
  },
  {
   "cell_type": "markdown",
   "id": "eb7b13af-6093-46c5-a469-1bbd9155c45c",
   "metadata": {},
   "source": [
    "### 6.3 Random Forest Classifier"
   ]
  },
  {
   "cell_type": "code",
   "execution_count": 42,
   "id": "c83c8042-3cec-47b6-bb35-e8d6ba46a521",
   "metadata": {},
   "outputs": [
    {
     "data": {
      "text/html": [
       "<style>#sk-container-id-1 {color: black;}#sk-container-id-1 pre{padding: 0;}#sk-container-id-1 div.sk-toggleable {background-color: white;}#sk-container-id-1 label.sk-toggleable__label {cursor: pointer;display: block;width: 100%;margin-bottom: 0;padding: 0.3em;box-sizing: border-box;text-align: center;}#sk-container-id-1 label.sk-toggleable__label-arrow:before {content: \"▸\";float: left;margin-right: 0.25em;color: #696969;}#sk-container-id-1 label.sk-toggleable__label-arrow:hover:before {color: black;}#sk-container-id-1 div.sk-estimator:hover label.sk-toggleable__label-arrow:before {color: black;}#sk-container-id-1 div.sk-toggleable__content {max-height: 0;max-width: 0;overflow: hidden;text-align: left;background-color: #f0f8ff;}#sk-container-id-1 div.sk-toggleable__content pre {margin: 0.2em;color: black;border-radius: 0.25em;background-color: #f0f8ff;}#sk-container-id-1 input.sk-toggleable__control:checked~div.sk-toggleable__content {max-height: 200px;max-width: 100%;overflow: auto;}#sk-container-id-1 input.sk-toggleable__control:checked~label.sk-toggleable__label-arrow:before {content: \"▾\";}#sk-container-id-1 div.sk-estimator input.sk-toggleable__control:checked~label.sk-toggleable__label {background-color: #d4ebff;}#sk-container-id-1 div.sk-label input.sk-toggleable__control:checked~label.sk-toggleable__label {background-color: #d4ebff;}#sk-container-id-1 input.sk-hidden--visually {border: 0;clip: rect(1px 1px 1px 1px);clip: rect(1px, 1px, 1px, 1px);height: 1px;margin: -1px;overflow: hidden;padding: 0;position: absolute;width: 1px;}#sk-container-id-1 div.sk-estimator {font-family: monospace;background-color: #f0f8ff;border: 1px dotted black;border-radius: 0.25em;box-sizing: border-box;margin-bottom: 0.5em;}#sk-container-id-1 div.sk-estimator:hover {background-color: #d4ebff;}#sk-container-id-1 div.sk-parallel-item::after {content: \"\";width: 100%;border-bottom: 1px solid gray;flex-grow: 1;}#sk-container-id-1 div.sk-label:hover label.sk-toggleable__label {background-color: #d4ebff;}#sk-container-id-1 div.sk-serial::before {content: \"\";position: absolute;border-left: 1px solid gray;box-sizing: border-box;top: 0;bottom: 0;left: 50%;z-index: 0;}#sk-container-id-1 div.sk-serial {display: flex;flex-direction: column;align-items: center;background-color: white;padding-right: 0.2em;padding-left: 0.2em;position: relative;}#sk-container-id-1 div.sk-item {position: relative;z-index: 1;}#sk-container-id-1 div.sk-parallel {display: flex;align-items: stretch;justify-content: center;background-color: white;position: relative;}#sk-container-id-1 div.sk-item::before, #sk-container-id-1 div.sk-parallel-item::before {content: \"\";position: absolute;border-left: 1px solid gray;box-sizing: border-box;top: 0;bottom: 0;left: 50%;z-index: -1;}#sk-container-id-1 div.sk-parallel-item {display: flex;flex-direction: column;z-index: 1;position: relative;background-color: white;}#sk-container-id-1 div.sk-parallel-item:first-child::after {align-self: flex-end;width: 50%;}#sk-container-id-1 div.sk-parallel-item:last-child::after {align-self: flex-start;width: 50%;}#sk-container-id-1 div.sk-parallel-item:only-child::after {width: 0;}#sk-container-id-1 div.sk-dashed-wrapped {border: 1px dashed gray;margin: 0 0.4em 0.5em 0.4em;box-sizing: border-box;padding-bottom: 0.4em;background-color: white;}#sk-container-id-1 div.sk-label label {font-family: monospace;font-weight: bold;display: inline-block;line-height: 1.2em;}#sk-container-id-1 div.sk-label-container {text-align: center;}#sk-container-id-1 div.sk-container {/* jupyter's `normalize.less` sets `[hidden] { display: none; }` but bootstrap.min.css set `[hidden] { display: none !important; }` so we also need the `!important` here to be able to override the default hidden behavior on the sphinx rendered scikit-learn.org. See: https://github.com/scikit-learn/scikit-learn/issues/21755 */display: inline-block !important;position: relative;}#sk-container-id-1 div.sk-text-repr-fallback {display: none;}</style><div id=\"sk-container-id-1\" class=\"sk-top-container\"><div class=\"sk-text-repr-fallback\"><pre>RandomForestClassifier(random_state=42)</pre><b>In a Jupyter environment, please rerun this cell to show the HTML representation or trust the notebook. <br />On GitHub, the HTML representation is unable to render, please try loading this page with nbviewer.org.</b></div><div class=\"sk-container\" hidden><div class=\"sk-item\"><div class=\"sk-estimator sk-toggleable\"><input class=\"sk-toggleable__control sk-hidden--visually\" id=\"sk-estimator-id-1\" type=\"checkbox\" checked><label for=\"sk-estimator-id-1\" class=\"sk-toggleable__label sk-toggleable__label-arrow\">RandomForestClassifier</label><div class=\"sk-toggleable__content\"><pre>RandomForestClassifier(random_state=42)</pre></div></div></div></div></div>"
      ],
      "text/plain": [
       "RandomForestClassifier(random_state=42)"
      ]
     },
     "execution_count": 42,
     "metadata": {},
     "output_type": "execute_result"
    }
   ],
   "source": [
    "# 6.3.1 Train a Random Forest Classifier\n",
    "from sklearn.ensemble import RandomForestClassifier\n",
    "\n",
    "model = RandomForestClassifier(random_state=42)\n",
    "model.fit(X_train, y_train)"
   ]
  },
  {
   "cell_type": "code",
   "execution_count": 43,
   "id": "18f6a1b2-bdaa-443e-b06d-9f9f48ada639",
   "metadata": {},
   "outputs": [],
   "source": [
    "# 6.3.2 Make Predictions\n",
    "y_pred = model.predict(X_test)"
   ]
  },
  {
   "cell_type": "code",
   "execution_count": 44,
   "id": "f33fbefb-7418-4c67-9c9d-f368103adff9",
   "metadata": {},
   "outputs": [
    {
     "name": "stdout",
     "output_type": "stream",
     "text": [
      "Confusion Matrix:\n",
      "[[44 37 45 54 12 16]\n",
      " [50 64 44 56 25 22]\n",
      " [46 44 52 60 25 21]\n",
      " [40 55 51 83 32 23]\n",
      " [18 33 39 48 35 22]\n",
      " [23 23 33 61 35 28]]\n",
      "\n",
      "Classification Report:\n",
      "              precision    recall  f1-score   support\n",
      "\n",
      "           0       0.20      0.21      0.21       208\n",
      "           1       0.25      0.25      0.25       261\n",
      "           2       0.20      0.21      0.20       248\n",
      "           3       0.23      0.29      0.26       284\n",
      "           4       0.21      0.18      0.19       195\n",
      "           5       0.21      0.14      0.17       203\n",
      "\n",
      "    accuracy                           0.22      1399\n",
      "   macro avg       0.22      0.21      0.21      1399\n",
      "weighted avg       0.22      0.22      0.22      1399\n",
      "\n"
     ]
    }
   ],
   "source": [
    "# 6.3.3 Evaluate the Model\n",
    "from sklearn.metrics import classification_report, confusion_matrix\n",
    "\n",
    "print(\"Confusion Matrix:\")\n",
    "print(confusion_matrix(y_test, y_pred))\n",
    "\n",
    "print(\"\\nClassification Report:\")\n",
    "print(classification_report(y_test, y_pred))"
   ]
  },
  {
   "cell_type": "markdown",
   "id": "fb4f17a9-073e-4910-b98b-6e187808eeb2",
   "metadata": {},
   "source": [
    "##### 6.3.3.1 Evaluering af Random Forest-resultater\n",
    "Random Forest-modellen opnåede en **samlet nøjagtighed på 22%**, med nogenlunde balanceret, **men lav præcision og recall** på tværs af alle seks stressniveauer.\n",
    "\n",
    "*Dette resultat fungerer som en nyttig baseline. De næste skridt vil indebære at afprøve alternative modeller eller reducere antallet af stresskategorier (f.eks. lav/mellem/høj) for at forbedre klassifikationspræstationen.*"
   ]
  },
  {
   "cell_type": "markdown",
   "id": "12c3f12c-e66e-4813-a5e3-df078450b793",
   "metadata": {},
   "source": [
    "### 6.4 KNN"
   ]
  },
  {
   "cell_type": "code",
   "execution_count": 47,
   "id": "6fa3ce6d-5bb8-49a0-b13f-c2cde7465737",
   "metadata": {},
   "outputs": [],
   "source": [
    "# 6.4.1 Scale the Features\n",
    "from sklearn.preprocessing import StandardScaler\n",
    "\n",
    "scaler = StandardScaler()\n",
    "X_scaled = scaler.fit_transform(X)"
   ]
  },
  {
   "cell_type": "code",
   "execution_count": 48,
   "id": "94a29a10-8ba6-4a5d-ad1b-087ba0ddd7d5",
   "metadata": {},
   "outputs": [],
   "source": [
    "# 6.4.2 Split into Train and Test Sets\n",
    "from sklearn.model_selection import train_test_split\n",
    "\n",
    "X_train, X_test, y_train, y_test = train_test_split(X_scaled, y, test_size=0.2, random_state=42)"
   ]
  },
  {
   "cell_type": "code",
   "execution_count": 49,
   "id": "b49e046e-3d9f-4c0d-a1b1-36b638e2192d",
   "metadata": {},
   "outputs": [
    {
     "data": {
      "text/html": [
       "<style>#sk-container-id-2 {color: black;}#sk-container-id-2 pre{padding: 0;}#sk-container-id-2 div.sk-toggleable {background-color: white;}#sk-container-id-2 label.sk-toggleable__label {cursor: pointer;display: block;width: 100%;margin-bottom: 0;padding: 0.3em;box-sizing: border-box;text-align: center;}#sk-container-id-2 label.sk-toggleable__label-arrow:before {content: \"▸\";float: left;margin-right: 0.25em;color: #696969;}#sk-container-id-2 label.sk-toggleable__label-arrow:hover:before {color: black;}#sk-container-id-2 div.sk-estimator:hover label.sk-toggleable__label-arrow:before {color: black;}#sk-container-id-2 div.sk-toggleable__content {max-height: 0;max-width: 0;overflow: hidden;text-align: left;background-color: #f0f8ff;}#sk-container-id-2 div.sk-toggleable__content pre {margin: 0.2em;color: black;border-radius: 0.25em;background-color: #f0f8ff;}#sk-container-id-2 input.sk-toggleable__control:checked~div.sk-toggleable__content {max-height: 200px;max-width: 100%;overflow: auto;}#sk-container-id-2 input.sk-toggleable__control:checked~label.sk-toggleable__label-arrow:before {content: \"▾\";}#sk-container-id-2 div.sk-estimator input.sk-toggleable__control:checked~label.sk-toggleable__label {background-color: #d4ebff;}#sk-container-id-2 div.sk-label input.sk-toggleable__control:checked~label.sk-toggleable__label {background-color: #d4ebff;}#sk-container-id-2 input.sk-hidden--visually {border: 0;clip: rect(1px 1px 1px 1px);clip: rect(1px, 1px, 1px, 1px);height: 1px;margin: -1px;overflow: hidden;padding: 0;position: absolute;width: 1px;}#sk-container-id-2 div.sk-estimator {font-family: monospace;background-color: #f0f8ff;border: 1px dotted black;border-radius: 0.25em;box-sizing: border-box;margin-bottom: 0.5em;}#sk-container-id-2 div.sk-estimator:hover {background-color: #d4ebff;}#sk-container-id-2 div.sk-parallel-item::after {content: \"\";width: 100%;border-bottom: 1px solid gray;flex-grow: 1;}#sk-container-id-2 div.sk-label:hover label.sk-toggleable__label {background-color: #d4ebff;}#sk-container-id-2 div.sk-serial::before {content: \"\";position: absolute;border-left: 1px solid gray;box-sizing: border-box;top: 0;bottom: 0;left: 50%;z-index: 0;}#sk-container-id-2 div.sk-serial {display: flex;flex-direction: column;align-items: center;background-color: white;padding-right: 0.2em;padding-left: 0.2em;position: relative;}#sk-container-id-2 div.sk-item {position: relative;z-index: 1;}#sk-container-id-2 div.sk-parallel {display: flex;align-items: stretch;justify-content: center;background-color: white;position: relative;}#sk-container-id-2 div.sk-item::before, #sk-container-id-2 div.sk-parallel-item::before {content: \"\";position: absolute;border-left: 1px solid gray;box-sizing: border-box;top: 0;bottom: 0;left: 50%;z-index: -1;}#sk-container-id-2 div.sk-parallel-item {display: flex;flex-direction: column;z-index: 1;position: relative;background-color: white;}#sk-container-id-2 div.sk-parallel-item:first-child::after {align-self: flex-end;width: 50%;}#sk-container-id-2 div.sk-parallel-item:last-child::after {align-self: flex-start;width: 50%;}#sk-container-id-2 div.sk-parallel-item:only-child::after {width: 0;}#sk-container-id-2 div.sk-dashed-wrapped {border: 1px dashed gray;margin: 0 0.4em 0.5em 0.4em;box-sizing: border-box;padding-bottom: 0.4em;background-color: white;}#sk-container-id-2 div.sk-label label {font-family: monospace;font-weight: bold;display: inline-block;line-height: 1.2em;}#sk-container-id-2 div.sk-label-container {text-align: center;}#sk-container-id-2 div.sk-container {/* jupyter's `normalize.less` sets `[hidden] { display: none; }` but bootstrap.min.css set `[hidden] { display: none !important; }` so we also need the `!important` here to be able to override the default hidden behavior on the sphinx rendered scikit-learn.org. See: https://github.com/scikit-learn/scikit-learn/issues/21755 */display: inline-block !important;position: relative;}#sk-container-id-2 div.sk-text-repr-fallback {display: none;}</style><div id=\"sk-container-id-2\" class=\"sk-top-container\"><div class=\"sk-text-repr-fallback\"><pre>KNeighborsClassifier()</pre><b>In a Jupyter environment, please rerun this cell to show the HTML representation or trust the notebook. <br />On GitHub, the HTML representation is unable to render, please try loading this page with nbviewer.org.</b></div><div class=\"sk-container\" hidden><div class=\"sk-item\"><div class=\"sk-estimator sk-toggleable\"><input class=\"sk-toggleable__control sk-hidden--visually\" id=\"sk-estimator-id-2\" type=\"checkbox\" checked><label for=\"sk-estimator-id-2\" class=\"sk-toggleable__label sk-toggleable__label-arrow\">KNeighborsClassifier</label><div class=\"sk-toggleable__content\"><pre>KNeighborsClassifier()</pre></div></div></div></div></div>"
      ],
      "text/plain": [
       "KNeighborsClassifier()"
      ]
     },
     "execution_count": 49,
     "metadata": {},
     "output_type": "execute_result"
    }
   ],
   "source": [
    "# 6.4.3 Create and Train the KNN Model\n",
    "from sklearn.neighbors import KNeighborsClassifier\n",
    "\n",
    "knn = KNeighborsClassifier(n_neighbors=5)\n",
    "knn.fit(X_train, y_train)"
   ]
  },
  {
   "cell_type": "code",
   "execution_count": 50,
   "id": "47220196-8def-4357-8dcd-0ad68be51ce4",
   "metadata": {},
   "outputs": [],
   "source": [
    "# 6.4.4 Make Predictions\n",
    "y_pred_knn = knn.predict(X_test)"
   ]
  },
  {
   "cell_type": "code",
   "execution_count": 51,
   "id": "ebbab6b6-bb81-4efd-b3ff-9e117eef40fe",
   "metadata": {},
   "outputs": [
    {
     "name": "stdout",
     "output_type": "stream",
     "text": [
      "Confusion Matrix:\n",
      "[[50 37 47 36 13 25]\n",
      " [52 55 46 55 26 27]\n",
      " [65 54 44 47 16 22]\n",
      " [68 61 49 52 18 36]\n",
      " [35 35 49 36 19 21]\n",
      " [41 41 49 37 18 17]]\n",
      "\n",
      "Classification Report:\n",
      "              precision    recall  f1-score   support\n",
      "\n",
      "           0       0.16      0.24      0.19       208\n",
      "           1       0.19      0.21      0.20       261\n",
      "           2       0.15      0.18      0.17       248\n",
      "           3       0.20      0.18      0.19       284\n",
      "           4       0.17      0.10      0.12       195\n",
      "           5       0.11      0.08      0.10       203\n",
      "\n",
      "    accuracy                           0.17      1399\n",
      "   macro avg       0.17      0.17      0.16      1399\n",
      "weighted avg       0.17      0.17      0.17      1399\n",
      "\n"
     ]
    }
   ],
   "source": [
    "# 6.4.5 Evaluate Performance\n",
    "from sklearn.metrics import classification_report, confusion_matrix\n",
    "\n",
    "print(\"Confusion Matrix:\")\n",
    "print(confusion_matrix(y_test, y_pred_knn))\n",
    "\n",
    "print(\"\\nClassification Report:\")\n",
    "print(classification_report(y_test, y_pred_knn))"
   ]
  },
  {
   "cell_type": "markdown",
   "id": "3ba4ea01-99f5-4738-a068-dc02498292af",
   "metadata": {},
   "source": [
    "##### 6.4.5.1 Evaluering af KNN-resultater\n",
    "*K-Nearest Neighbors-klassifikatoren* opnåede, efter skalering af inputvariablerne, en **nøjagtighed på 17%**, med **F1-scorer** for de enkelte klasser **mellem 0.10 og 0.20**.\n",
    "\n",
    "KNN-modellen havde en tendens til at forveksle nærtliggende stressniveauer og havde **især svært ved den højeste klasse (5)**. Dette bekræfter, at **KNN ikke er særligt velegnet til denne problemstilling** – sandsynligvis på grund af overlappende featureværdier og den multi-class karakter af målvariablen."
   ]
  },
  {
   "cell_type": "markdown",
   "id": "644ca6d6-3038-41ec-8df1-e90c9c7a0219",
   "metadata": {},
   "source": [
    "### 6.5 Logistisk Regression"
   ]
  },
  {
   "cell_type": "code",
   "execution_count": 54,
   "id": "28671c21-c4cc-4a41-8422-73dd63f614bb",
   "metadata": {},
   "outputs": [],
   "source": [
    "# 6.5.1 Scale the Features\n",
    "from sklearn.preprocessing import StandardScaler\n",
    "\n",
    "scaler = StandardScaler()\n",
    "X_scaled = scaler.fit_transform(X)"
   ]
  },
  {
   "cell_type": "code",
   "execution_count": 55,
   "id": "5edde53b-85d4-48bd-a043-2f4719e40731",
   "metadata": {},
   "outputs": [],
   "source": [
    "# 6.5.2 Split into Train and Test Sets\n",
    "from sklearn.model_selection import train_test_split\n",
    "\n",
    "X_train, X_test, y_train, y_test = train_test_split(X_scaled, y, test_size=0.2, random_state=42)"
   ]
  },
  {
   "cell_type": "code",
   "execution_count": 56,
   "id": "85cc57af-590c-482c-93f9-a9e4c7f1c9be",
   "metadata": {},
   "outputs": [
    {
     "data": {
      "text/html": [
       "<style>#sk-container-id-3 {color: black;}#sk-container-id-3 pre{padding: 0;}#sk-container-id-3 div.sk-toggleable {background-color: white;}#sk-container-id-3 label.sk-toggleable__label {cursor: pointer;display: block;width: 100%;margin-bottom: 0;padding: 0.3em;box-sizing: border-box;text-align: center;}#sk-container-id-3 label.sk-toggleable__label-arrow:before {content: \"▸\";float: left;margin-right: 0.25em;color: #696969;}#sk-container-id-3 label.sk-toggleable__label-arrow:hover:before {color: black;}#sk-container-id-3 div.sk-estimator:hover label.sk-toggleable__label-arrow:before {color: black;}#sk-container-id-3 div.sk-toggleable__content {max-height: 0;max-width: 0;overflow: hidden;text-align: left;background-color: #f0f8ff;}#sk-container-id-3 div.sk-toggleable__content pre {margin: 0.2em;color: black;border-radius: 0.25em;background-color: #f0f8ff;}#sk-container-id-3 input.sk-toggleable__control:checked~div.sk-toggleable__content {max-height: 200px;max-width: 100%;overflow: auto;}#sk-container-id-3 input.sk-toggleable__control:checked~label.sk-toggleable__label-arrow:before {content: \"▾\";}#sk-container-id-3 div.sk-estimator input.sk-toggleable__control:checked~label.sk-toggleable__label {background-color: #d4ebff;}#sk-container-id-3 div.sk-label input.sk-toggleable__control:checked~label.sk-toggleable__label {background-color: #d4ebff;}#sk-container-id-3 input.sk-hidden--visually {border: 0;clip: rect(1px 1px 1px 1px);clip: rect(1px, 1px, 1px, 1px);height: 1px;margin: -1px;overflow: hidden;padding: 0;position: absolute;width: 1px;}#sk-container-id-3 div.sk-estimator {font-family: monospace;background-color: #f0f8ff;border: 1px dotted black;border-radius: 0.25em;box-sizing: border-box;margin-bottom: 0.5em;}#sk-container-id-3 div.sk-estimator:hover {background-color: #d4ebff;}#sk-container-id-3 div.sk-parallel-item::after {content: \"\";width: 100%;border-bottom: 1px solid gray;flex-grow: 1;}#sk-container-id-3 div.sk-label:hover label.sk-toggleable__label {background-color: #d4ebff;}#sk-container-id-3 div.sk-serial::before {content: \"\";position: absolute;border-left: 1px solid gray;box-sizing: border-box;top: 0;bottom: 0;left: 50%;z-index: 0;}#sk-container-id-3 div.sk-serial {display: flex;flex-direction: column;align-items: center;background-color: white;padding-right: 0.2em;padding-left: 0.2em;position: relative;}#sk-container-id-3 div.sk-item {position: relative;z-index: 1;}#sk-container-id-3 div.sk-parallel {display: flex;align-items: stretch;justify-content: center;background-color: white;position: relative;}#sk-container-id-3 div.sk-item::before, #sk-container-id-3 div.sk-parallel-item::before {content: \"\";position: absolute;border-left: 1px solid gray;box-sizing: border-box;top: 0;bottom: 0;left: 50%;z-index: -1;}#sk-container-id-3 div.sk-parallel-item {display: flex;flex-direction: column;z-index: 1;position: relative;background-color: white;}#sk-container-id-3 div.sk-parallel-item:first-child::after {align-self: flex-end;width: 50%;}#sk-container-id-3 div.sk-parallel-item:last-child::after {align-self: flex-start;width: 50%;}#sk-container-id-3 div.sk-parallel-item:only-child::after {width: 0;}#sk-container-id-3 div.sk-dashed-wrapped {border: 1px dashed gray;margin: 0 0.4em 0.5em 0.4em;box-sizing: border-box;padding-bottom: 0.4em;background-color: white;}#sk-container-id-3 div.sk-label label {font-family: monospace;font-weight: bold;display: inline-block;line-height: 1.2em;}#sk-container-id-3 div.sk-label-container {text-align: center;}#sk-container-id-3 div.sk-container {/* jupyter's `normalize.less` sets `[hidden] { display: none; }` but bootstrap.min.css set `[hidden] { display: none !important; }` so we also need the `!important` here to be able to override the default hidden behavior on the sphinx rendered scikit-learn.org. See: https://github.com/scikit-learn/scikit-learn/issues/21755 */display: inline-block !important;position: relative;}#sk-container-id-3 div.sk-text-repr-fallback {display: none;}</style><div id=\"sk-container-id-3\" class=\"sk-top-container\"><div class=\"sk-text-repr-fallback\"><pre>LogisticRegression(max_iter=1000, multi_class=&#x27;multinomial&#x27;)</pre><b>In a Jupyter environment, please rerun this cell to show the HTML representation or trust the notebook. <br />On GitHub, the HTML representation is unable to render, please try loading this page with nbviewer.org.</b></div><div class=\"sk-container\" hidden><div class=\"sk-item\"><div class=\"sk-estimator sk-toggleable\"><input class=\"sk-toggleable__control sk-hidden--visually\" id=\"sk-estimator-id-3\" type=\"checkbox\" checked><label for=\"sk-estimator-id-3\" class=\"sk-toggleable__label sk-toggleable__label-arrow\">LogisticRegression</label><div class=\"sk-toggleable__content\"><pre>LogisticRegression(max_iter=1000, multi_class=&#x27;multinomial&#x27;)</pre></div></div></div></div></div>"
      ],
      "text/plain": [
       "LogisticRegression(max_iter=1000, multi_class='multinomial')"
      ]
     },
     "execution_count": 56,
     "metadata": {},
     "output_type": "execute_result"
    }
   ],
   "source": [
    "# 6.5.3 Create and Train the Logistic Regression Model\n",
    "from sklearn.linear_model import LogisticRegression\n",
    "\n",
    "logreg = LogisticRegression(max_iter=1000, multi_class='multinomial', solver='lbfgs')\n",
    "logreg.fit(X_train, y_train)"
   ]
  },
  {
   "cell_type": "code",
   "execution_count": 57,
   "id": "a562b124-f261-4469-bfc9-bd091362b3cc",
   "metadata": {},
   "outputs": [],
   "source": [
    "# 6.5.4 Make Predictions\n",
    "y_pred_log = logreg.predict(X_test)"
   ]
  },
  {
   "cell_type": "code",
   "execution_count": 58,
   "id": "412e9ea6-af99-45e8-8bb0-124f3601c2ef",
   "metadata": {},
   "outputs": [
    {
     "name": "stdout",
     "output_type": "stream",
     "text": [
      "Confusion Matrix:\n",
      "[[ 30  22  37  84  16  19]\n",
      " [ 38  21  55 109  15  23]\n",
      " [ 29  22  56  98   9  34]\n",
      " [ 39  33  52 122  11  27]\n",
      " [ 11  10  49  84  14  27]\n",
      " [ 17   9  48  82  16  31]]\n",
      "\n",
      "Classification Report:\n",
      "              precision    recall  f1-score   support\n",
      "\n",
      "           0       0.18      0.14      0.16       208\n",
      "           1       0.18      0.08      0.11       261\n",
      "           2       0.19      0.23      0.21       248\n",
      "           3       0.21      0.43      0.28       284\n",
      "           4       0.17      0.07      0.10       195\n",
      "           5       0.19      0.15      0.17       203\n",
      "\n",
      "    accuracy                           0.20      1399\n",
      "   macro avg       0.19      0.18      0.17      1399\n",
      "weighted avg       0.19      0.20      0.18      1399\n",
      "\n"
     ]
    }
   ],
   "source": [
    "# 6.5.5 Evaluate Performance\n",
    "from sklearn.metrics import classification_report, confusion_matrix\n",
    "\n",
    "print(\"Confusion Matrix:\")\n",
    "print(confusion_matrix(y_test, y_pred_log))\n",
    "\n",
    "print(\"\\nClassification Report:\")\n",
    "print(classification_report(y_test, y_pred_log))"
   ]
  },
  {
   "cell_type": "markdown",
   "id": "8ff57312-acbd-42da-8098-a1ac10291db7",
   "metadata": {},
   "source": [
    "##### 6.5.5.1 Evaluering af Logistisk Regressions-resultater\n",
    "Den logistiske regressionsmodel opnåede en samlet **nøjagtighed på 20%**, med stærk ydeevne i klasse 3 (moderat stress), men svagere prædiktionsevne for de øvrige niveauer.\n",
    "\n",
    "Resultatet er sammenligneligt med vores tidligere modeller og **viser visse styrker inden for recall og fortolkelighed**, men har begrænset samlet præstation. Modellen ser ud til at favorisere de hyppigst forekommende klasser og har især svært ved yderområderne af stressskalaen (niveau 1 og 4)."
   ]
  },
  {
   "cell_type": "markdown",
   "id": "de0d358c-96f8-484e-975b-f9e4b2ab53fa",
   "metadata": {},
   "source": [
    "### 6.6 Gradient Boosting"
   ]
  },
  {
   "cell_type": "code",
   "execution_count": 61,
   "id": "25c14b4c-fcdb-407a-944f-eee678344494",
   "metadata": {},
   "outputs": [],
   "source": [
    "# 6.6.1 Scale the Features\n",
    "from sklearn.preprocessing import StandardScaler\n",
    "\n",
    "scaler = StandardScaler()\n",
    "X_scaled = scaler.fit_transform(X)"
   ]
  },
  {
   "cell_type": "code",
   "execution_count": 62,
   "id": "ec6bcc08-32a2-402b-9b55-e663d49172c8",
   "metadata": {},
   "outputs": [],
   "source": [
    "# 6.6.2 Split into Train and Test Sets\n",
    "from sklearn.model_selection import train_test_split\n",
    "\n",
    "X_train, X_test, y_train, y_test = train_test_split(X_scaled, y, test_size=0.2, random_state=42)"
   ]
  },
  {
   "cell_type": "code",
   "execution_count": 63,
   "id": "57869d07-f6fb-4af3-b979-d2f753c017a5",
   "metadata": {},
   "outputs": [
    {
     "data": {
      "text/html": [
       "<style>#sk-container-id-4 {color: black;}#sk-container-id-4 pre{padding: 0;}#sk-container-id-4 div.sk-toggleable {background-color: white;}#sk-container-id-4 label.sk-toggleable__label {cursor: pointer;display: block;width: 100%;margin-bottom: 0;padding: 0.3em;box-sizing: border-box;text-align: center;}#sk-container-id-4 label.sk-toggleable__label-arrow:before {content: \"▸\";float: left;margin-right: 0.25em;color: #696969;}#sk-container-id-4 label.sk-toggleable__label-arrow:hover:before {color: black;}#sk-container-id-4 div.sk-estimator:hover label.sk-toggleable__label-arrow:before {color: black;}#sk-container-id-4 div.sk-toggleable__content {max-height: 0;max-width: 0;overflow: hidden;text-align: left;background-color: #f0f8ff;}#sk-container-id-4 div.sk-toggleable__content pre {margin: 0.2em;color: black;border-radius: 0.25em;background-color: #f0f8ff;}#sk-container-id-4 input.sk-toggleable__control:checked~div.sk-toggleable__content {max-height: 200px;max-width: 100%;overflow: auto;}#sk-container-id-4 input.sk-toggleable__control:checked~label.sk-toggleable__label-arrow:before {content: \"▾\";}#sk-container-id-4 div.sk-estimator input.sk-toggleable__control:checked~label.sk-toggleable__label {background-color: #d4ebff;}#sk-container-id-4 div.sk-label input.sk-toggleable__control:checked~label.sk-toggleable__label {background-color: #d4ebff;}#sk-container-id-4 input.sk-hidden--visually {border: 0;clip: rect(1px 1px 1px 1px);clip: rect(1px, 1px, 1px, 1px);height: 1px;margin: -1px;overflow: hidden;padding: 0;position: absolute;width: 1px;}#sk-container-id-4 div.sk-estimator {font-family: monospace;background-color: #f0f8ff;border: 1px dotted black;border-radius: 0.25em;box-sizing: border-box;margin-bottom: 0.5em;}#sk-container-id-4 div.sk-estimator:hover {background-color: #d4ebff;}#sk-container-id-4 div.sk-parallel-item::after {content: \"\";width: 100%;border-bottom: 1px solid gray;flex-grow: 1;}#sk-container-id-4 div.sk-label:hover label.sk-toggleable__label {background-color: #d4ebff;}#sk-container-id-4 div.sk-serial::before {content: \"\";position: absolute;border-left: 1px solid gray;box-sizing: border-box;top: 0;bottom: 0;left: 50%;z-index: 0;}#sk-container-id-4 div.sk-serial {display: flex;flex-direction: column;align-items: center;background-color: white;padding-right: 0.2em;padding-left: 0.2em;position: relative;}#sk-container-id-4 div.sk-item {position: relative;z-index: 1;}#sk-container-id-4 div.sk-parallel {display: flex;align-items: stretch;justify-content: center;background-color: white;position: relative;}#sk-container-id-4 div.sk-item::before, #sk-container-id-4 div.sk-parallel-item::before {content: \"\";position: absolute;border-left: 1px solid gray;box-sizing: border-box;top: 0;bottom: 0;left: 50%;z-index: -1;}#sk-container-id-4 div.sk-parallel-item {display: flex;flex-direction: column;z-index: 1;position: relative;background-color: white;}#sk-container-id-4 div.sk-parallel-item:first-child::after {align-self: flex-end;width: 50%;}#sk-container-id-4 div.sk-parallel-item:last-child::after {align-self: flex-start;width: 50%;}#sk-container-id-4 div.sk-parallel-item:only-child::after {width: 0;}#sk-container-id-4 div.sk-dashed-wrapped {border: 1px dashed gray;margin: 0 0.4em 0.5em 0.4em;box-sizing: border-box;padding-bottom: 0.4em;background-color: white;}#sk-container-id-4 div.sk-label label {font-family: monospace;font-weight: bold;display: inline-block;line-height: 1.2em;}#sk-container-id-4 div.sk-label-container {text-align: center;}#sk-container-id-4 div.sk-container {/* jupyter's `normalize.less` sets `[hidden] { display: none; }` but bootstrap.min.css set `[hidden] { display: none !important; }` so we also need the `!important` here to be able to override the default hidden behavior on the sphinx rendered scikit-learn.org. See: https://github.com/scikit-learn/scikit-learn/issues/21755 */display: inline-block !important;position: relative;}#sk-container-id-4 div.sk-text-repr-fallback {display: none;}</style><div id=\"sk-container-id-4\" class=\"sk-top-container\"><div class=\"sk-text-repr-fallback\"><pre>GradientBoostingClassifier(random_state=42)</pre><b>In a Jupyter environment, please rerun this cell to show the HTML representation or trust the notebook. <br />On GitHub, the HTML representation is unable to render, please try loading this page with nbviewer.org.</b></div><div class=\"sk-container\" hidden><div class=\"sk-item\"><div class=\"sk-estimator sk-toggleable\"><input class=\"sk-toggleable__control sk-hidden--visually\" id=\"sk-estimator-id-4\" type=\"checkbox\" checked><label for=\"sk-estimator-id-4\" class=\"sk-toggleable__label sk-toggleable__label-arrow\">GradientBoostingClassifier</label><div class=\"sk-toggleable__content\"><pre>GradientBoostingClassifier(random_state=42)</pre></div></div></div></div></div>"
      ],
      "text/plain": [
       "GradientBoostingClassifier(random_state=42)"
      ]
     },
     "execution_count": 63,
     "metadata": {},
     "output_type": "execute_result"
    }
   ],
   "source": [
    "# 6.6.3 Train the Gradient Boosting Model\n",
    "from sklearn.ensemble import GradientBoostingClassifier\n",
    "\n",
    "gb_model = GradientBoostingClassifier(random_state=42)\n",
    "gb_model.fit(X_train, y_train)"
   ]
  },
  {
   "cell_type": "code",
   "execution_count": 64,
   "id": "a92b6a21-9b08-48fc-b019-cd4dacfc45d6",
   "metadata": {},
   "outputs": [],
   "source": [
    "# 6.6.4 Predict on the Test Set\n",
    "y_pred_gb = gb_model.predict(X_test)"
   ]
  },
  {
   "cell_type": "code",
   "execution_count": 65,
   "id": "50a4e3f1-0eec-4493-a9f1-d556d2811483",
   "metadata": {},
   "outputs": [
    {
     "name": "stdout",
     "output_type": "stream",
     "text": [
      "Confusion Matrix:\n",
      "[[39 43 57 50 12  7]\n",
      " [44 55 52 54 26 30]\n",
      " [35 51 48 56 34 24]\n",
      " [51 54 42 60 35 42]\n",
      " [21 21 31 37 49 36]\n",
      " [17 28 27 42 57 32]]\n",
      "\n",
      "Classification Report:\n",
      "              precision    recall  f1-score   support\n",
      "\n",
      "           0       0.19      0.19      0.19       208\n",
      "           1       0.22      0.21      0.21       261\n",
      "           2       0.19      0.19      0.19       248\n",
      "           3       0.20      0.21      0.21       284\n",
      "           4       0.23      0.25      0.24       195\n",
      "           5       0.19      0.16      0.17       203\n",
      "\n",
      "    accuracy                           0.20      1399\n",
      "   macro avg       0.20      0.20      0.20      1399\n",
      "weighted avg       0.20      0.20      0.20      1399\n",
      "\n"
     ]
    }
   ],
   "source": [
    "# 6.6.5 Evaluate Performance\n",
    "from sklearn.metrics import classification_report, confusion_matrix\n",
    "\n",
    "print(\"Confusion Matrix:\")\n",
    "print(confusion_matrix(y_test, y_pred_gb))\n",
    "\n",
    "print(\"\\nClassification Report:\")\n",
    "print(classification_report(y_test, y_pred_gb))"
   ]
  },
  {
   "cell_type": "markdown",
   "id": "f4bae629-2ed7-4123-b363-c6ba36b6aa31",
   "metadata": {},
   "source": [
    "##### 6.6.5.1 Evaluering af Gradient Boosting Classifier-resultater\n",
    "Vi implementerede og evaluerede en *Gradient Boosting Classifier* til at forudsige de studerendes stressniveauer. Modellen opnåede en stabil **nøjagtighed på 20%**, med særlig **god ydeevne på klasse 4** (F1-score på 0.24) — en forbedring i forhold til tidligere modeller.\n",
    "\n",
    "Gradient Boosting gav **de mest balancerede resultater på tværs af alle klasser** og fremstår som den mest konsistente og generaliserbare *supervised model*, vi har testet."
   ]
  },
  {
   "cell_type": "markdown",
   "id": "88230d07-8cb7-4d21-87ba-767c1673b5c3",
   "metadata": {},
   "source": [
    "### 📊 Oversigt over præstation for supervised modeller\n",
    "\n",
    "| Model                  | Nøjagtighed | Bedste klasse (Recall) | Svageste klasse (Recall) | Noter |\n",
    "|------------------------|-------------|--------------------------|----------------------------|--------|\n",
    "| **Random Forest**       | **22 %**     | Klasse 3 (0.26)           | Klasse 5 (0.14)             | Højeste samlede nøjagtighed; god balance |\n",
    "| **KNN**                 | 17 %         | Klasse 0 (0.24)           | Klasse 5 (0.08)             | Generelt svag; forvekslede klasser |\n",
    "| **Logistisk regression**| 20 %         | Klasse 3 (0.43)           | Klasse 4 (0.07)             | Høj recall på klasse 3; svag på andre |\n",
    "| **Gradient Boosting**   | 20 %         | Klasse 4 (0.25)           | Klasse 5 (0.16)             | Mest balanceret; bedst til at forudsige klasse 4 |\n",
    "\n",
    "### ✅ Sammenfatning:\n",
    "\n",
    "- Random Forest opnåede den højeste samlede nøjagtighed.\n",
    "- Logistisk regression havde en markant høj recall på klasse 3 (moderat stress).\n",
    "- Gradient Boosting var mest balanceret på tværs af klasser og forbedrede præstationen på klasse 4.\n",
    "- KNN klarede sig dårligst sammenlignet med de andre modeller, sandsynligvis pga. overlappende mønstre i dataene.\n"
   ]
  },
  {
   "cell_type": "markdown",
   "id": "3dec4555-072b-472f-afe2-e5f52c814f03",
   "metadata": {},
   "source": [
    "## 6.7 Grouped Stress Levels \n",
    "For at forenkle klassifikationsopgaven grupperede vi de oprindelige 6 stressniveauer i 3 bredere kategorier:  \n",
    "- **Low** (0 og 1)  \n",
    "- **Medium** (2 og 3)  \n",
    "- **High** (4 og 5)  \n",
    "\n",
    "Denne tilgang reducerer overlap mellem klasserne og forbedrer fortolkeligheden, hvilket gør det muligt at fokusere på mere handlingsorienterede inden for *mental health groupings*."
   ]
  },
  {
   "cell_type": "code",
   "execution_count": 69,
   "id": "b2f81ce5-33ca-4564-b0be-c0195ecb3d2b",
   "metadata": {},
   "outputs": [],
   "source": [
    "# 6.7.1 Create a new column for grouped stress levels\n",
    "def group_stress_level(level):\n",
    "    if level in [0, 1]:\n",
    "        return 0  # Low\n",
    "    elif level in [2, 3]:\n",
    "        return 1  # Medium\n",
    "    else:\n",
    "        return 2  # High\n",
    "\n",
    "df_clean['Stress_Grouped'] = df_clean['Stress_Level'].apply(group_stress_level)"
   ]
  },
  {
   "cell_type": "code",
   "execution_count": 70,
   "id": "1d9ddf23-34cb-4c5e-9857-9a73c29bf300",
   "metadata": {},
   "outputs": [
    {
     "data": {
      "text/plain": [
       "1    2671\n",
       "0    2320\n",
       "2    2004\n",
       "Name: Stress_Grouped, dtype: int64"
      ]
     },
     "execution_count": 70,
     "metadata": {},
     "output_type": "execute_result"
    }
   ],
   "source": [
    "# 6.7.1.1 Check Class Distribution\n",
    "df_clean['Stress_Grouped'].value_counts()"
   ]
  },
  {
   "cell_type": "code",
   "execution_count": 71,
   "id": "185da7cb-b5e9-41e0-88ba-4b751b74cd65",
   "metadata": {},
   "outputs": [],
   "source": [
    "# 6.7.1.2 Define Features and Grouped Target\n",
    "X = df_clean.drop(columns=['Stress_Level', 'Stress_Grouped'])  # Features\n",
    "y = df_clean['Stress_Grouped']  # Target = Grouped stress level"
   ]
  },
  {
   "cell_type": "code",
   "execution_count": 72,
   "id": "5c2f8401-63d7-47f1-b433-fdf531b04fa9",
   "metadata": {},
   "outputs": [],
   "source": [
    "# 6.7.1.3 Scale Features\n",
    "from sklearn.preprocessing import StandardScaler\n",
    "\n",
    "scaler = StandardScaler()\n",
    "X_scaled = scaler.fit_transform(X)"
   ]
  },
  {
   "cell_type": "code",
   "execution_count": 73,
   "id": "bd2ba649-78cd-41e7-8ff4-af0ff83dbf94",
   "metadata": {},
   "outputs": [],
   "source": [
    "# 6.7.1.4 Split into Train and Test Sets\n",
    "from sklearn.model_selection import train_test_split\n",
    "\n",
    "X_train, X_test, y_train, y_test = train_test_split(X_scaled, y, test_size=0.2, random_state=42)"
   ]
  },
  {
   "cell_type": "markdown",
   "id": "023d4dd4-b0c7-4fa0-a719-1e5288cc452c",
   "metadata": {},
   "source": [
    "#### 6.7.1.x Random Forest (Grouped)"
   ]
  },
  {
   "cell_type": "code",
   "execution_count": 75,
   "id": "db16478c-d638-44fc-8f2d-2c6513f02398",
   "metadata": {},
   "outputs": [
    {
     "data": {
      "text/html": [
       "<style>#sk-container-id-5 {color: black;}#sk-container-id-5 pre{padding: 0;}#sk-container-id-5 div.sk-toggleable {background-color: white;}#sk-container-id-5 label.sk-toggleable__label {cursor: pointer;display: block;width: 100%;margin-bottom: 0;padding: 0.3em;box-sizing: border-box;text-align: center;}#sk-container-id-5 label.sk-toggleable__label-arrow:before {content: \"▸\";float: left;margin-right: 0.25em;color: #696969;}#sk-container-id-5 label.sk-toggleable__label-arrow:hover:before {color: black;}#sk-container-id-5 div.sk-estimator:hover label.sk-toggleable__label-arrow:before {color: black;}#sk-container-id-5 div.sk-toggleable__content {max-height: 0;max-width: 0;overflow: hidden;text-align: left;background-color: #f0f8ff;}#sk-container-id-5 div.sk-toggleable__content pre {margin: 0.2em;color: black;border-radius: 0.25em;background-color: #f0f8ff;}#sk-container-id-5 input.sk-toggleable__control:checked~div.sk-toggleable__content {max-height: 200px;max-width: 100%;overflow: auto;}#sk-container-id-5 input.sk-toggleable__control:checked~label.sk-toggleable__label-arrow:before {content: \"▾\";}#sk-container-id-5 div.sk-estimator input.sk-toggleable__control:checked~label.sk-toggleable__label {background-color: #d4ebff;}#sk-container-id-5 div.sk-label input.sk-toggleable__control:checked~label.sk-toggleable__label {background-color: #d4ebff;}#sk-container-id-5 input.sk-hidden--visually {border: 0;clip: rect(1px 1px 1px 1px);clip: rect(1px, 1px, 1px, 1px);height: 1px;margin: -1px;overflow: hidden;padding: 0;position: absolute;width: 1px;}#sk-container-id-5 div.sk-estimator {font-family: monospace;background-color: #f0f8ff;border: 1px dotted black;border-radius: 0.25em;box-sizing: border-box;margin-bottom: 0.5em;}#sk-container-id-5 div.sk-estimator:hover {background-color: #d4ebff;}#sk-container-id-5 div.sk-parallel-item::after {content: \"\";width: 100%;border-bottom: 1px solid gray;flex-grow: 1;}#sk-container-id-5 div.sk-label:hover label.sk-toggleable__label {background-color: #d4ebff;}#sk-container-id-5 div.sk-serial::before {content: \"\";position: absolute;border-left: 1px solid gray;box-sizing: border-box;top: 0;bottom: 0;left: 50%;z-index: 0;}#sk-container-id-5 div.sk-serial {display: flex;flex-direction: column;align-items: center;background-color: white;padding-right: 0.2em;padding-left: 0.2em;position: relative;}#sk-container-id-5 div.sk-item {position: relative;z-index: 1;}#sk-container-id-5 div.sk-parallel {display: flex;align-items: stretch;justify-content: center;background-color: white;position: relative;}#sk-container-id-5 div.sk-item::before, #sk-container-id-5 div.sk-parallel-item::before {content: \"\";position: absolute;border-left: 1px solid gray;box-sizing: border-box;top: 0;bottom: 0;left: 50%;z-index: -1;}#sk-container-id-5 div.sk-parallel-item {display: flex;flex-direction: column;z-index: 1;position: relative;background-color: white;}#sk-container-id-5 div.sk-parallel-item:first-child::after {align-self: flex-end;width: 50%;}#sk-container-id-5 div.sk-parallel-item:last-child::after {align-self: flex-start;width: 50%;}#sk-container-id-5 div.sk-parallel-item:only-child::after {width: 0;}#sk-container-id-5 div.sk-dashed-wrapped {border: 1px dashed gray;margin: 0 0.4em 0.5em 0.4em;box-sizing: border-box;padding-bottom: 0.4em;background-color: white;}#sk-container-id-5 div.sk-label label {font-family: monospace;font-weight: bold;display: inline-block;line-height: 1.2em;}#sk-container-id-5 div.sk-label-container {text-align: center;}#sk-container-id-5 div.sk-container {/* jupyter's `normalize.less` sets `[hidden] { display: none; }` but bootstrap.min.css set `[hidden] { display: none !important; }` so we also need the `!important` here to be able to override the default hidden behavior on the sphinx rendered scikit-learn.org. See: https://github.com/scikit-learn/scikit-learn/issues/21755 */display: inline-block !important;position: relative;}#sk-container-id-5 div.sk-text-repr-fallback {display: none;}</style><div id=\"sk-container-id-5\" class=\"sk-top-container\"><div class=\"sk-text-repr-fallback\"><pre>RandomForestClassifier(random_state=42)</pre><b>In a Jupyter environment, please rerun this cell to show the HTML representation or trust the notebook. <br />On GitHub, the HTML representation is unable to render, please try loading this page with nbviewer.org.</b></div><div class=\"sk-container\" hidden><div class=\"sk-item\"><div class=\"sk-estimator sk-toggleable\"><input class=\"sk-toggleable__control sk-hidden--visually\" id=\"sk-estimator-id-5\" type=\"checkbox\" checked><label for=\"sk-estimator-id-5\" class=\"sk-toggleable__label sk-toggleable__label-arrow\">RandomForestClassifier</label><div class=\"sk-toggleable__content\"><pre>RandomForestClassifier(random_state=42)</pre></div></div></div></div></div>"
      ],
      "text/plain": [
       "RandomForestClassifier(random_state=42)"
      ]
     },
     "execution_count": 75,
     "metadata": {},
     "output_type": "execute_result"
    }
   ],
   "source": [
    "# 6.7.1.5 Train Random Forest Model\n",
    "from sklearn.ensemble import RandomForestClassifier\n",
    "\n",
    "rf_model_grouped = RandomForestClassifier(random_state=42)\n",
    "rf_model_grouped.fit(X_train, y_train)"
   ]
  },
  {
   "cell_type": "code",
   "execution_count": 76,
   "id": "eacea123-a09c-4e3d-9814-beb5e9744d73",
   "metadata": {},
   "outputs": [],
   "source": [
    "# 6.7.1.6 Make Predictions\n",
    "y_pred_rf_grouped = rf_model_grouped.predict(X_test)"
   ]
  },
  {
   "cell_type": "code",
   "execution_count": 77,
   "id": "4b6b2d1f-88e4-49ac-8d0b-42004acb04a9",
   "metadata": {},
   "outputs": [
    {
     "name": "stdout",
     "output_type": "stream",
     "text": [
      "Confusion Matrix (Random Forest – Grouped):\n",
      "[[196 209  64]\n",
      " [198 226 108]\n",
      " [ 88 179 131]]\n",
      "\n",
      "Classification Report (Random Forest – Grouped):\n",
      "              precision    recall  f1-score   support\n",
      "\n",
      "           0       0.41      0.42      0.41       469\n",
      "           1       0.37      0.42      0.39       532\n",
      "           2       0.43      0.33      0.37       398\n",
      "\n",
      "    accuracy                           0.40      1399\n",
      "   macro avg       0.40      0.39      0.39      1399\n",
      "weighted avg       0.40      0.40      0.39      1399\n",
      "\n"
     ]
    }
   ],
   "source": [
    "# 6.7.1.7 Evaluate Performance\n",
    "from sklearn.metrics import confusion_matrix, classification_report\n",
    "\n",
    "print(\"Confusion Matrix (Random Forest – Grouped):\")\n",
    "print(confusion_matrix(y_test, y_pred_rf_grouped))\n",
    "\n",
    "print(\"\\nClassification Report (Random Forest – Grouped):\")\n",
    "print(classification_report(y_test, y_pred_rf_grouped))"
   ]
  },
  {
   "cell_type": "markdown",
   "id": "585504ad-5709-4aab-985b-7680c67f6ad1",
   "metadata": {},
   "source": [
    "##### 6.7.1.7.1 Resultater: Random Forest med grupperede stressniveauer  \n",
    "\n",
    "Vi genoplærte Random Forest-klassifikatoren med de grupperede stressniveauer (Low, Medium, High). Modellen opnåede en **nøjagtighed på 40%**, en **markant forbedring** i forhold til de tidligere 22%, da vi brugte seks separate klasser.\n",
    "\n",
    "Ydelsen var godt balanceret på tværs af de tre klasser. Grupperne med Lav (Low) og Mellem (Medium) stress havde lignende præcision og recall, mens **Høj stress** (High) viste den **højeste præcision (0.43)**, men en **lidt lavere recall (0.33)**.\n",
    "\n",
    "Dette **bekræfter**, at en forenkling af **målvariablen har forbedret modellens præstation og tolkbarhed**.\n"
   ]
  },
  {
   "cell_type": "markdown",
   "id": "b6d15057-71f6-478e-a96f-c66ae182e159",
   "metadata": {},
   "source": [
    "#### 6.7.2 Gradient Boosting (Grouped)"
   ]
  },
  {
   "cell_type": "code",
   "execution_count": 80,
   "id": "80ecceed-2f08-4bc2-a190-88c9498bed03",
   "metadata": {},
   "outputs": [],
   "source": [
    "# 6.7.2.1 Define Features and Target\n",
    "X = df_clean.drop(columns=['Stress_Level', 'Stress_Grouped'])  # Drop both stress columns from inputs\n",
    "y = df_clean['Stress_Grouped']  # Use grouped stress level as target"
   ]
  },
  {
   "cell_type": "code",
   "execution_count": 128,
   "id": "2ab32280-dfbc-419c-9447-fd2f09547cf6",
   "metadata": {},
   "outputs": [],
   "source": [
    "# 6.7.2.2 Scale the Features\n",
    "from sklearn.preprocessing import StandardScaler\n",
    "\n",
    "scaler = StandardScaler()\n",
    "X_scaled = scaler.fit_transform(X)"
   ]
  },
  {
   "cell_type": "code",
   "execution_count": 130,
   "id": "0cf94ac6-ce42-485b-b879-95a054f9c231",
   "metadata": {},
   "outputs": [],
   "source": [
    "# 6.7.2.3 Split into Training and Testing Sets\n",
    "from sklearn.model_selection import train_test_split\n",
    "\n",
    "X_train, X_test, y_train, y_test = train_test_split(X_scaled, y, test_size=0.2, random_state=42)"
   ]
  },
  {
   "cell_type": "code",
   "execution_count": 132,
   "id": "7d7e9757-b324-424b-a72c-d03dcbbead7c",
   "metadata": {},
   "outputs": [
    {
     "data": {
      "text/html": [
       "<style>#sk-container-id-6 {color: black;}#sk-container-id-6 pre{padding: 0;}#sk-container-id-6 div.sk-toggleable {background-color: white;}#sk-container-id-6 label.sk-toggleable__label {cursor: pointer;display: block;width: 100%;margin-bottom: 0;padding: 0.3em;box-sizing: border-box;text-align: center;}#sk-container-id-6 label.sk-toggleable__label-arrow:before {content: \"▸\";float: left;margin-right: 0.25em;color: #696969;}#sk-container-id-6 label.sk-toggleable__label-arrow:hover:before {color: black;}#sk-container-id-6 div.sk-estimator:hover label.sk-toggleable__label-arrow:before {color: black;}#sk-container-id-6 div.sk-toggleable__content {max-height: 0;max-width: 0;overflow: hidden;text-align: left;background-color: #f0f8ff;}#sk-container-id-6 div.sk-toggleable__content pre {margin: 0.2em;color: black;border-radius: 0.25em;background-color: #f0f8ff;}#sk-container-id-6 input.sk-toggleable__control:checked~div.sk-toggleable__content {max-height: 200px;max-width: 100%;overflow: auto;}#sk-container-id-6 input.sk-toggleable__control:checked~label.sk-toggleable__label-arrow:before {content: \"▾\";}#sk-container-id-6 div.sk-estimator input.sk-toggleable__control:checked~label.sk-toggleable__label {background-color: #d4ebff;}#sk-container-id-6 div.sk-label input.sk-toggleable__control:checked~label.sk-toggleable__label {background-color: #d4ebff;}#sk-container-id-6 input.sk-hidden--visually {border: 0;clip: rect(1px 1px 1px 1px);clip: rect(1px, 1px, 1px, 1px);height: 1px;margin: -1px;overflow: hidden;padding: 0;position: absolute;width: 1px;}#sk-container-id-6 div.sk-estimator {font-family: monospace;background-color: #f0f8ff;border: 1px dotted black;border-radius: 0.25em;box-sizing: border-box;margin-bottom: 0.5em;}#sk-container-id-6 div.sk-estimator:hover {background-color: #d4ebff;}#sk-container-id-6 div.sk-parallel-item::after {content: \"\";width: 100%;border-bottom: 1px solid gray;flex-grow: 1;}#sk-container-id-6 div.sk-label:hover label.sk-toggleable__label {background-color: #d4ebff;}#sk-container-id-6 div.sk-serial::before {content: \"\";position: absolute;border-left: 1px solid gray;box-sizing: border-box;top: 0;bottom: 0;left: 50%;z-index: 0;}#sk-container-id-6 div.sk-serial {display: flex;flex-direction: column;align-items: center;background-color: white;padding-right: 0.2em;padding-left: 0.2em;position: relative;}#sk-container-id-6 div.sk-item {position: relative;z-index: 1;}#sk-container-id-6 div.sk-parallel {display: flex;align-items: stretch;justify-content: center;background-color: white;position: relative;}#sk-container-id-6 div.sk-item::before, #sk-container-id-6 div.sk-parallel-item::before {content: \"\";position: absolute;border-left: 1px solid gray;box-sizing: border-box;top: 0;bottom: 0;left: 50%;z-index: -1;}#sk-container-id-6 div.sk-parallel-item {display: flex;flex-direction: column;z-index: 1;position: relative;background-color: white;}#sk-container-id-6 div.sk-parallel-item:first-child::after {align-self: flex-end;width: 50%;}#sk-container-id-6 div.sk-parallel-item:last-child::after {align-self: flex-start;width: 50%;}#sk-container-id-6 div.sk-parallel-item:only-child::after {width: 0;}#sk-container-id-6 div.sk-dashed-wrapped {border: 1px dashed gray;margin: 0 0.4em 0.5em 0.4em;box-sizing: border-box;padding-bottom: 0.4em;background-color: white;}#sk-container-id-6 div.sk-label label {font-family: monospace;font-weight: bold;display: inline-block;line-height: 1.2em;}#sk-container-id-6 div.sk-label-container {text-align: center;}#sk-container-id-6 div.sk-container {/* jupyter's `normalize.less` sets `[hidden] { display: none; }` but bootstrap.min.css set `[hidden] { display: none !important; }` so we also need the `!important` here to be able to override the default hidden behavior on the sphinx rendered scikit-learn.org. See: https://github.com/scikit-learn/scikit-learn/issues/21755 */display: inline-block !important;position: relative;}#sk-container-id-6 div.sk-text-repr-fallback {display: none;}</style><div id=\"sk-container-id-6\" class=\"sk-top-container\"><div class=\"sk-text-repr-fallback\"><pre>GradientBoostingClassifier(random_state=42)</pre><b>In a Jupyter environment, please rerun this cell to show the HTML representation or trust the notebook. <br />On GitHub, the HTML representation is unable to render, please try loading this page with nbviewer.org.</b></div><div class=\"sk-container\" hidden><div class=\"sk-item\"><div class=\"sk-estimator sk-toggleable\"><input class=\"sk-toggleable__control sk-hidden--visually\" id=\"sk-estimator-id-6\" type=\"checkbox\" checked><label for=\"sk-estimator-id-6\" class=\"sk-toggleable__label sk-toggleable__label-arrow\">GradientBoostingClassifier</label><div class=\"sk-toggleable__content\"><pre>GradientBoostingClassifier(random_state=42)</pre></div></div></div></div></div>"
      ],
      "text/plain": [
       "GradientBoostingClassifier(random_state=42)"
      ]
     },
     "execution_count": 132,
     "metadata": {},
     "output_type": "execute_result"
    }
   ],
   "source": [
    "# 6.7.2.4 Train the Gradient Boosting Model\n",
    "from sklearn.ensemble import GradientBoostingClassifier\n",
    "\n",
    "gb_model_grouped = GradientBoostingClassifier(random_state=42)\n",
    "gb_model_grouped.fit(X_train, y_train)"
   ]
  },
  {
   "cell_type": "code",
   "execution_count": 134,
   "id": "187558e6-9b11-42c1-8b5b-4f6076685f51",
   "metadata": {},
   "outputs": [],
   "source": [
    "# 6.7.2.5 Make Predictions\n",
    "y_pred_gb_grouped = gb_model_grouped.predict(X_test)"
   ]
  },
  {
   "cell_type": "code",
   "execution_count": 136,
   "id": "6ddd57ba-096c-4d2d-860f-250ac9d201d9",
   "metadata": {},
   "outputs": [
    {
     "name": "stdout",
     "output_type": "stream",
     "text": [
      "Confusion Matrix (Gradient Boosting – Grouped):\n",
      "[[204 195  70]\n",
      " [210 197 125]\n",
      " [ 99 127 172]]\n",
      "\n",
      "Classification Report (Gradient Boosting – Grouped):\n",
      "              precision    recall  f1-score   support\n",
      "\n",
      "           0       0.40      0.43      0.42       469\n",
      "           1       0.38      0.37      0.37       532\n",
      "           2       0.47      0.43      0.45       398\n",
      "\n",
      "    accuracy                           0.41      1399\n",
      "   macro avg       0.42      0.41      0.41      1399\n",
      "weighted avg       0.41      0.41      0.41      1399\n",
      "\n"
     ]
    }
   ],
   "source": [
    "# 6.7.2.6 Evaluate Performance\n",
    "from sklearn.metrics import confusion_matrix, classification_report\n",
    "\n",
    "print(\"Confusion Matrix (Gradient Boosting – Grouped):\")\n",
    "print(confusion_matrix(y_test, y_pred_gb_grouped))\n",
    "\n",
    "print(\"\\nClassification Report (Gradient Boosting – Grouped):\")\n",
    "print(classification_report(y_test, y_pred_gb_grouped))"
   ]
  },
  {
   "cell_type": "markdown",
   "id": "46478a0a-bfa8-4efa-8108-61d48e7b2617",
   "metadata": {},
   "source": [
    "##### 6.7.2.6.1 Resultat: Gradient Boosting (grupperede labels)  \n",
    "Vi trænede en Gradient Boosting-model med de grupperede stresskategorier (Low, Medium, High). Den endelige **nøjagtighed var 41%**, med en **F1-score på 0.45 for gruppen med højt (High) stressniveau** — den **bedste individuelle klassepræstation blandt alle testede modeller**.\n",
    "\n",
    "Gradient Boosting viste sig at være **den mest balancerede og konsistente klassifikationsmodel**, især i forhold til at identificere studerende med **højt (High) stressniveau**, hvilket gør den til en **stærk kandidat til praktisk anvendelse**."
   ]
  },
  {
   "cell_type": "code",
   "execution_count": null,
   "id": "5ea9007c-f7b1-4efa-9056-3853fbe8c41f",
   "metadata": {},
   "outputs": [],
   "source": []
  }
 ],
 "metadata": {
  "kernelspec": {
   "display_name": "Python [conda env:base] *",
   "language": "python",
   "name": "conda-base-py"
  },
  "language_info": {
   "codemirror_mode": {
    "name": "ipython",
    "version": 3
   },
   "file_extension": ".py",
   "mimetype": "text/x-python",
   "name": "python",
   "nbconvert_exporter": "python",
   "pygments_lexer": "ipython3",
   "version": "3.11.5"
  }
 },
 "nbformat": 4,
 "nbformat_minor": 5
}
